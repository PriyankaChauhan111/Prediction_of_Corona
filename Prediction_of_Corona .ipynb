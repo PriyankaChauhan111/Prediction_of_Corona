{
 "cells": [
  {
   "cell_type": "markdown",
   "id": "3545fc15",
   "metadata": {},
   "source": [
    "# What is Corona Virus(COVID-19)?\n",
    "Coronavirus (COVID-19) is a highly contagious respiratory illness caused by a virus called SARS-CoV-2. It first emerged in Wuhan, China in December 2019 and has since become a global pandemic. COVID-19 spreads through respiratory droplets when an infected person talks, coughs, or sneezes. Symptoms include fever, cough, shortness of breath, fatigue, and loss of taste or smell. In severe cases, it can lead to pneumonia, acute respiratory distress syndrome, and even death. To slow the spread of COVID-19, governments and health organizations have implemented measures such as social distancing, wearing masks, and widespread vaccination.\n",
    "\n",
    "\n",
    "\n"
   ]
  },
  {
   "cell_type": "code",
   "execution_count": 1,
   "id": "dc3d726f",
   "metadata": {},
   "outputs": [],
   "source": [
    "import os"
   ]
  },
  {
   "cell_type": "code",
   "execution_count": 4,
   "id": "749bb210",
   "metadata": {},
   "outputs": [
    {
     "data": {
      "text/plain": [
       "'C:\\\\Users\\\\Hi'"
      ]
     },
     "execution_count": 4,
     "metadata": {},
     "output_type": "execute_result"
    }
   ],
   "source": [
    "os.getcwd()"
   ]
  },
  {
   "cell_type": "markdown",
   "id": "2fb743e7",
   "metadata": {},
   "source": [
    "## Introduction:\n"
   ]
  },
  {
   "cell_type": "markdown",
   "id": "fd4e653c",
   "metadata": {},
   "source": [
    "###### The COVID-19 pandemic has caused widespread health and economic impacts across the world. Accurate prediction of the spread of COVID-19 is crucial in order to prepare and respond effectively to the pandemic. This project aims to utilize data science and machine learning techniques to predict the spread of COVID-19 based on various factors  Symptoms include fever, cough, shortness of breath headache ,and physical contact. The ultimate goal of this project is to provide valuable insights and support decision-making efforts in the ongoing fight against COVID-19.\n",
    "\n",
    "###### Objective:\n",
    "###### The objective of this project is to develop a machine learning model that can predict diseases with high accuracy using medical data such as demographic information, lab test results, and lifestyle factors."
   ]
  },
  {
   "cell_type": "markdown",
   "id": "96c6d997",
   "metadata": {},
   "source": [
    "### Data summary"
   ]
  },
  {
   "cell_type": "markdown",
   "id": "10a9b545",
   "metadata": {},
   "source": [
    "The current dataset has been downloaded from a government website and contains around 2,78,848 individuals who have gone through the RT-PCR test. Data set contains 11 columns, including 8 features suspected to play an important role in the prediction of COVID19 outcome. Outcome variable is covid result test positive or negative."
   ]
  },
  {
   "cell_type": "markdown",
   "id": "2b4d8823",
   "metadata": {},
   "source": [
    "#### Column descryption"
   ]
  },
  {
   "cell_type": "markdown",
   "id": "1e21324f",
   "metadata": {},
   "source": [
    "This dataset has columns like: A. Basic information:\n",
    "\n",
    "ID (Individual ID)\n",
    "\n",
    "Sex (male/female).\n",
    "\n",
    "Age ≥60 above years (true/false)\n",
    "\n",
    "Test date (date when tested for COVID)\n",
    "\n",
    "B. Symptoms:\n",
    "\n",
    "Cough (true/false).\n",
    "\n",
    "Fever (true/false).\n",
    "\n",
    "Sore throat (true/false).\n",
    "\n",
    "Shortness of breath (true/false).\n",
    "\n",
    "Headache (true/false).\n",
    "\n",
    "C. Other information:\n",
    "\n",
    "Known contact with an individual confirmed to have COVID-19 (true/false).\n",
    "D. Covid report\n",
    "\n",
    "Corona positive or negative"
   ]
  },
  {
   "cell_type": "code",
   "execution_count": 1,
   "id": "d8fbc3f5",
   "metadata": {},
   "outputs": [],
   "source": [
    "import pandas as pd\n",
    "import numpy as np\n",
    "import seaborn as sns\n",
    "import matplotlib.pyplot as plt\n",
    "import plotly.express as px\n",
    "import warnings\n",
    "warnings.filterwarnings('ignore')"
   ]
  },
  {
   "cell_type": "code",
   "execution_count": 4,
   "id": "d64b8e29",
   "metadata": {},
   "outputs": [
    {
     "data": {
      "text/html": [
       "<div>\n",
       "<style scoped>\n",
       "    .dataframe tbody tr th:only-of-type {\n",
       "        vertical-align: middle;\n",
       "    }\n",
       "\n",
       "    .dataframe tbody tr th {\n",
       "        vertical-align: top;\n",
       "    }\n",
       "\n",
       "    .dataframe thead th {\n",
       "        text-align: right;\n",
       "    }\n",
       "</style>\n",
       "<table border=\"1\" class=\"dataframe\">\n",
       "  <thead>\n",
       "    <tr style=\"text-align: right;\">\n",
       "      <th></th>\n",
       "      <th>Ind_ID</th>\n",
       "      <th>Test_date</th>\n",
       "      <th>Cough_symptoms</th>\n",
       "      <th>Fever</th>\n",
       "      <th>Sore_throat</th>\n",
       "      <th>Shortness_of_breath</th>\n",
       "      <th>Headache</th>\n",
       "      <th>Corona</th>\n",
       "      <th>Age_60_above</th>\n",
       "      <th>Sex</th>\n",
       "      <th>Known_contact</th>\n",
       "    </tr>\n",
       "  </thead>\n",
       "  <tbody>\n",
       "    <tr>\n",
       "      <th>0</th>\n",
       "      <td>1</td>\n",
       "      <td>11-03-2020</td>\n",
       "      <td>TRUE</td>\n",
       "      <td>FALSE</td>\n",
       "      <td>TRUE</td>\n",
       "      <td>FALSE</td>\n",
       "      <td>FALSE</td>\n",
       "      <td>negative</td>\n",
       "      <td>None</td>\n",
       "      <td>None</td>\n",
       "      <td>Abroad</td>\n",
       "    </tr>\n",
       "    <tr>\n",
       "      <th>1</th>\n",
       "      <td>2</td>\n",
       "      <td>11-03-2020</td>\n",
       "      <td>FALSE</td>\n",
       "      <td>TRUE</td>\n",
       "      <td>FALSE</td>\n",
       "      <td>FALSE</td>\n",
       "      <td>FALSE</td>\n",
       "      <td>positive</td>\n",
       "      <td>None</td>\n",
       "      <td>None</td>\n",
       "      <td>Abroad</td>\n",
       "    </tr>\n",
       "    <tr>\n",
       "      <th>2</th>\n",
       "      <td>3</td>\n",
       "      <td>11-03-2020</td>\n",
       "      <td>FALSE</td>\n",
       "      <td>TRUE</td>\n",
       "      <td>FALSE</td>\n",
       "      <td>FALSE</td>\n",
       "      <td>FALSE</td>\n",
       "      <td>positive</td>\n",
       "      <td>None</td>\n",
       "      <td>None</td>\n",
       "      <td>Abroad</td>\n",
       "    </tr>\n",
       "    <tr>\n",
       "      <th>3</th>\n",
       "      <td>4</td>\n",
       "      <td>11-03-2020</td>\n",
       "      <td>TRUE</td>\n",
       "      <td>FALSE</td>\n",
       "      <td>FALSE</td>\n",
       "      <td>FALSE</td>\n",
       "      <td>FALSE</td>\n",
       "      <td>negative</td>\n",
       "      <td>None</td>\n",
       "      <td>None</td>\n",
       "      <td>Abroad</td>\n",
       "    </tr>\n",
       "    <tr>\n",
       "      <th>4</th>\n",
       "      <td>5</td>\n",
       "      <td>11-03-2020</td>\n",
       "      <td>TRUE</td>\n",
       "      <td>FALSE</td>\n",
       "      <td>FALSE</td>\n",
       "      <td>FALSE</td>\n",
       "      <td>FALSE</td>\n",
       "      <td>negative</td>\n",
       "      <td>None</td>\n",
       "      <td>None</td>\n",
       "      <td>Contact with confirmed</td>\n",
       "    </tr>\n",
       "  </tbody>\n",
       "</table>\n",
       "</div>"
      ],
      "text/plain": [
       "   Ind_ID   Test_date Cough_symptoms  Fever Sore_throat Shortness_of_breath  \\\n",
       "0       1  11-03-2020           TRUE  FALSE        TRUE               FALSE   \n",
       "1       2  11-03-2020          FALSE   TRUE       FALSE               FALSE   \n",
       "2       3  11-03-2020          FALSE   TRUE       FALSE               FALSE   \n",
       "3       4  11-03-2020           TRUE  FALSE       FALSE               FALSE   \n",
       "4       5  11-03-2020           TRUE  FALSE       FALSE               FALSE   \n",
       "\n",
       "  Headache    Corona Age_60_above   Sex           Known_contact  \n",
       "0    FALSE  negative         None  None                  Abroad  \n",
       "1    FALSE  positive         None  None                  Abroad  \n",
       "2    FALSE  positive         None  None                  Abroad  \n",
       "3    FALSE  negative         None  None                  Abroad  \n",
       "4    FALSE  negative         None  None  Contact with confirmed  "
      ]
     },
     "execution_count": 4,
     "metadata": {},
     "output_type": "execute_result"
    }
   ],
   "source": [
    "Covid_test = pd.read_csv('corona_tested_006 (1).csv')\n",
    "Covid_ = Covid_test.copy(deep = True)\n",
    "Covid_.head(5)"
   ]
  },
  {
   "cell_type": "markdown",
   "id": "cd97ee54",
   "metadata": {},
   "source": [
    "### Issues With the Data"
   ]
  },
  {
   "cell_type": "markdown",
   "id": "ff1bd224",
   "metadata": {},
   "source": [
    "In the given data, there are several issues that need to be addressed before it can be used for analysis and modeling:\n",
    "\n",
    "-Data Consistency: The data for different symptoms (Cough_symptoms, Fever, Sore_throat, Shortness_of_breath, Headache, Age_60_above) are recorded in different ways. This needs to be standardized to ensure consistency in the data.\n",
    "\n",
    " - Missing Values: There are missing values in some columns represented as NAN. This needs to be handled to ensure that the data     is complete and ready for analysis.\n",
    "\n",
    " - Imbalanced Dataset: The outcome data is imbalanced, with more data points for one class than the other. This can result in      biased predictions and needs to be addressed by either oversampling the minority class or undersampling the majority class.\n",
    "\n",
    " - Categorical Data: Some of the data is categorical, which needs to be encoded for use in machine learning algorithms.\n",
    " \n",
    " - in outcome 3 classes are available which could create it multiclass problem.\n",
    " \n",
    "These issues will need to be addressed before the data can be used for analysis and modeling."
   ]
  },
  {
   "cell_type": "markdown",
   "id": "65f59630",
   "metadata": {},
   "source": [
    "#### Basic Exploration "
   ]
  },
  {
   "cell_type": "code",
   "execution_count": 5,
   "id": "ef7b8b13",
   "metadata": {},
   "outputs": [
    {
     "data": {
      "text/plain": [
       "(278848, 11)"
      ]
     },
     "execution_count": 5,
     "metadata": {},
     "output_type": "execute_result"
    }
   ],
   "source": [
    "Covid_.shape"
   ]
  },
  {
   "cell_type": "code",
   "execution_count": 6,
   "id": "266e0e32",
   "metadata": {},
   "outputs": [
    {
     "name": "stdout",
     "output_type": "stream",
     "text": [
      "<class 'pandas.core.frame.DataFrame'>\n",
      "RangeIndex: 278848 entries, 0 to 278847\n",
      "Data columns (total 11 columns):\n",
      " #   Column               Non-Null Count   Dtype \n",
      "---  ------               --------------   ----- \n",
      " 0   Ind_ID               278848 non-null  int64 \n",
      " 1   Test_date            278848 non-null  object\n",
      " 2   Cough_symptoms       278848 non-null  object\n",
      " 3   Fever                278848 non-null  object\n",
      " 4   Sore_throat          278848 non-null  object\n",
      " 5   Shortness_of_breath  278848 non-null  object\n",
      " 6   Headache             278848 non-null  object\n",
      " 7   Corona               278848 non-null  object\n",
      " 8   Age_60_above         278848 non-null  object\n",
      " 9   Sex                  278848 non-null  object\n",
      " 10  Known_contact        278848 non-null  object\n",
      "dtypes: int64(1), object(10)\n",
      "memory usage: 23.4+ MB\n"
     ]
    }
   ],
   "source": [
    "Covid_.info() "
   ]
  },
  {
   "cell_type": "code",
   "execution_count": 7,
   "id": "5d03996e",
   "metadata": {},
   "outputs": [],
   "source": [
    "# changing date column into datetime datatype\n",
    "Covid_['Test_date'] = pd.to_datetime(Covid_['Test_date'])"
   ]
  },
  {
   "cell_type": "code",
   "execution_count": 8,
   "id": "19a03fc4",
   "metadata": {},
   "outputs": [
    {
     "data": {
      "text/plain": [
       "Index(['Ind_ID', 'Test_date', 'Cough_symptoms', 'Fever', 'Sore_throat',\n",
       "       'Shortness_of_breath', 'Headache', 'Corona', 'Age_60_above', 'Sex',\n",
       "       'Known_contact'],\n",
       "      dtype='object')"
      ]
     },
     "execution_count": 8,
     "metadata": {},
     "output_type": "execute_result"
    }
   ],
   "source": [
    "# column names\n",
    "Covid_.columns"
   ]
  },
  {
   "cell_type": "code",
   "execution_count": 9,
   "id": "f158c0f0",
   "metadata": {},
   "outputs": [
    {
     "data": {
      "text/plain": [
       "0"
      ]
     },
     "execution_count": 9,
     "metadata": {},
     "output_type": "execute_result"
    }
   ],
   "source": [
    "#checking for duplicates\n",
    "Covid_.duplicated().sum()"
   ]
  },
  {
   "cell_type": "code",
   "execution_count": 10,
   "id": "26c360ae",
   "metadata": {},
   "outputs": [
    {
     "data": {
      "text/plain": [
       "array(['TRUE', 'FALSE', 'None', False, True], dtype=object)"
      ]
     },
     "execution_count": 10,
     "metadata": {},
     "output_type": "execute_result"
    }
   ],
   "source": [
    "Covid_['Cough_symptoms'].unique()"
   ]
  },
  {
   "cell_type": "code",
   "execution_count": 11,
   "id": "202d9799",
   "metadata": {},
   "outputs": [
    {
     "data": {
      "text/plain": [
       "array(['FALSE', 'TRUE', 'None', False, True], dtype=object)"
      ]
     },
     "execution_count": 11,
     "metadata": {},
     "output_type": "execute_result"
    }
   ],
   "source": [
    "Covid_['Fever'].unique()"
   ]
  },
  {
   "cell_type": "code",
   "execution_count": 12,
   "id": "286ef477",
   "metadata": {},
   "outputs": [
    {
     "data": {
      "text/plain": [
       "array(['TRUE', 'FALSE', 'None', False, True], dtype=object)"
      ]
     },
     "execution_count": 12,
     "metadata": {},
     "output_type": "execute_result"
    }
   ],
   "source": [
    "Covid_['Sore_throat'].unique()"
   ]
  },
  {
   "cell_type": "code",
   "execution_count": 13,
   "id": "d5108360",
   "metadata": {},
   "outputs": [
    {
     "data": {
      "text/plain": [
       "array(['FALSE', 'TRUE', 'None', False, True], dtype=object)"
      ]
     },
     "execution_count": 13,
     "metadata": {},
     "output_type": "execute_result"
    }
   ],
   "source": [
    "Covid_['Shortness_of_breath'].unique()"
   ]
  },
  {
   "cell_type": "code",
   "execution_count": 16,
   "id": "27100996",
   "metadata": {},
   "outputs": [
    {
     "data": {
      "text/plain": [
       "array(['FALSE', 'TRUE', 'None', False, True], dtype=object)"
      ]
     },
     "execution_count": 16,
     "metadata": {},
     "output_type": "execute_result"
    }
   ],
   "source": [
    "Covid_['Headache'].unique()"
   ]
  },
  {
   "cell_type": "code",
   "execution_count": 17,
   "id": "0645bcad",
   "metadata": {},
   "outputs": [
    {
     "data": {
      "text/plain": [
       "array(['negative', 'positive', 'other'], dtype=object)"
      ]
     },
     "execution_count": 17,
     "metadata": {},
     "output_type": "execute_result"
    }
   ],
   "source": [
    "Covid_['Corona'].unique()"
   ]
  },
  {
   "cell_type": "code",
   "execution_count": 18,
   "id": "d138f772",
   "metadata": {},
   "outputs": [
    {
     "data": {
      "text/plain": [
       "array(['None', 'No', 'Yes'], dtype=object)"
      ]
     },
     "execution_count": 18,
     "metadata": {},
     "output_type": "execute_result"
    }
   ],
   "source": [
    "Covid_['Age_60_above'].unique()"
   ]
  },
  {
   "cell_type": "code",
   "execution_count": 19,
   "id": "ebe8681a",
   "metadata": {},
   "outputs": [
    {
     "data": {
      "text/plain": [
       "array(['None', 'male', 'female'], dtype=object)"
      ]
     },
     "execution_count": 19,
     "metadata": {},
     "output_type": "execute_result"
    }
   ],
   "source": [
    "Covid_['Sex'].unique()"
   ]
  },
  {
   "cell_type": "code",
   "execution_count": 20,
   "id": "e669acb8",
   "metadata": {},
   "outputs": [
    {
     "data": {
      "text/plain": [
       "array(['Abroad', 'Contact with confirmed', 'Other'], dtype=object)"
      ]
     },
     "execution_count": 20,
     "metadata": {},
     "output_type": "execute_result"
    }
   ],
   "source": [
    "Covid_['Known_contact'].unique()"
   ]
  },
  {
   "cell_type": "code",
   "execution_count": 21,
   "id": "491a3956",
   "metadata": {},
   "outputs": [
    {
     "data": {
      "text/plain": [
       "Ind_ID                 278848\n",
       "Test_date                  51\n",
       "Cough_symptoms              5\n",
       "Fever                       5\n",
       "Sore_throat                 5\n",
       "Shortness_of_breath         5\n",
       "Headache                    5\n",
       "Corona                      3\n",
       "Age_60_above                3\n",
       "Sex                         3\n",
       "Known_contact               3\n",
       "dtype: int64"
      ]
     },
     "execution_count": 21,
     "metadata": {},
     "output_type": "execute_result"
    }
   ],
   "source": [
    "Covid_.nunique()"
   ]
  },
  {
   "cell_type": "markdown",
   "id": "53b3c165",
   "metadata": {},
   "source": [
    "The challenge with this dataset is that the observations are quite messy and there are some missing values present. In order to clean the dataset, I need to change the \"None\" values to NaN and clarify the \"false\" and \"False\" values as Python treats them differently."
   ]
  },
  {
   "cell_type": "code",
   "execution_count": 22,
   "id": "d8377764",
   "metadata": {},
   "outputs": [
    {
     "data": {
      "text/plain": [
       "array([True, False, nan], dtype=object)"
      ]
     },
     "execution_count": 22,
     "metadata": {},
     "output_type": "execute_result"
    }
   ],
   "source": [
    "def replace_obs(x,y):\n",
    "    Covid_['Cough_symptoms'].replace(x,y,inplace=True)\n",
    "    \n",
    "replace_obs('TRUE', True)\n",
    "replace_obs('FALSE',False)\n",
    "replace_obs('None',np.nan)\n",
    "Covid_['Cough_symptoms'].unique() "
   ]
  },
  {
   "cell_type": "code",
   "execution_count": 23,
   "id": "524e546a",
   "metadata": {},
   "outputs": [
    {
     "data": {
      "text/plain": [
       "array([False, True, nan], dtype=object)"
      ]
     },
     "execution_count": 23,
     "metadata": {},
     "output_type": "execute_result"
    }
   ],
   "source": [
    "def replace_obs(x,y):\n",
    "    Covid_['Fever'].replace(x,y,inplace=True)\n",
    "    \n",
    "replace_obs('TRUE', True)\n",
    "replace_obs('FALSE',False)\n",
    "replace_obs('None',np.nan)\n",
    "Covid_['Fever'].unique() "
   ]
  },
  {
   "cell_type": "code",
   "execution_count": 24,
   "id": "870bba72",
   "metadata": {},
   "outputs": [
    {
     "data": {
      "text/plain": [
       "array([True, False, nan], dtype=object)"
      ]
     },
     "execution_count": 24,
     "metadata": {},
     "output_type": "execute_result"
    }
   ],
   "source": [
    "def replace_obs(x,y):\n",
    "    Covid_['Sore_throat'].replace(x,y,inplace=True)\n",
    "    \n",
    "replace_obs('TRUE', True)\n",
    "replace_obs('FALSE',False)\n",
    "replace_obs('None',np.nan)\n",
    "Covid_['Sore_throat'].unique() "
   ]
  },
  {
   "cell_type": "code",
   "execution_count": 25,
   "id": "e97dcfdd",
   "metadata": {},
   "outputs": [
    {
     "data": {
      "text/plain": [
       "array([False, True, nan], dtype=object)"
      ]
     },
     "execution_count": 25,
     "metadata": {},
     "output_type": "execute_result"
    }
   ],
   "source": [
    "def replace_obs(x,y):\n",
    "    Covid_['Shortness_of_breath'].replace(x,y,inplace=True)\n",
    "    \n",
    "replace_obs('TRUE', True)\n",
    "replace_obs('FALSE',False)\n",
    "replace_obs('None',np.nan)\n",
    "Covid_['Shortness_of_breath'].unique() "
   ]
  },
  {
   "cell_type": "code",
   "execution_count": 26,
   "id": "a774407e",
   "metadata": {},
   "outputs": [
    {
     "data": {
      "text/plain": [
       "array([False, True, nan], dtype=object)"
      ]
     },
     "execution_count": 26,
     "metadata": {},
     "output_type": "execute_result"
    }
   ],
   "source": [
    "def replace_obs(x,y):\n",
    "    Covid_['Headache'].replace(x,y,inplace=True)\n",
    "    \n",
    "replace_obs('TRUE', True)\n",
    "replace_obs('FALSE',False)\n",
    "replace_obs('None',np.nan)\n",
    "Covid_['Headache'].unique() "
   ]
  },
  {
   "cell_type": "code",
   "execution_count": 27,
   "id": "4be0b8b2",
   "metadata": {},
   "outputs": [
    {
     "data": {
      "text/plain": [
       "array([nan, False, True], dtype=object)"
      ]
     },
     "execution_count": 27,
     "metadata": {},
     "output_type": "execute_result"
    }
   ],
   "source": [
    "def replace_obs(x,y):\n",
    "    Covid_['Age_60_above'].replace(x,y,inplace=True)\n",
    "replace_obs('Yes', True)\n",
    "replace_obs('No',False)\n",
    "replace_obs('None',np.nan)\n",
    "Covid_['Age_60_above'].unique()"
   ]
  },
  {
   "cell_type": "code",
   "execution_count": 28,
   "id": "f9b0ac20",
   "metadata": {},
   "outputs": [
    {
     "data": {
      "text/plain": [
       "array([nan, 'male', 'female'], dtype=object)"
      ]
     },
     "execution_count": 28,
     "metadata": {},
     "output_type": "execute_result"
    }
   ],
   "source": [
    "Covid_['Sex'].replace('None',np.nan,inplace = True)\n",
    "Covid_['Sex'].unique()"
   ]
  },
  {
   "cell_type": "code",
   "execution_count": 29,
   "id": "b40390a6",
   "metadata": {},
   "outputs": [
    {
     "data": {
      "text/plain": [
       "Ind_ID                 278848\n",
       "Test_date                  51\n",
       "Cough_symptoms              2\n",
       "Fever                       2\n",
       "Sore_throat                 2\n",
       "Shortness_of_breath         2\n",
       "Headache                    2\n",
       "Corona                      3\n",
       "Age_60_above                2\n",
       "Sex                         2\n",
       "Known_contact               3\n",
       "dtype: int64"
      ]
     },
     "execution_count": 29,
     "metadata": {},
     "output_type": "execute_result"
    }
   ],
   "source": [
    "Covid_.nunique()"
   ]
  },
  {
   "cell_type": "code",
   "execution_count": 30,
   "id": "27216555",
   "metadata": {},
   "outputs": [
    {
     "data": {
      "text/plain": [
       "Known_contact\n",
       "Abroad                     25468\n",
       "Contact with confirmed     10639\n",
       "Other                     242741\n",
       "dtype: int64"
      ]
     },
     "execution_count": 30,
     "metadata": {},
     "output_type": "execute_result"
    }
   ],
   "source": [
    "#checking for the size of 'other' in known_contact column\n",
    "contact = Covid_.groupby('Known_contact')\n",
    "contact.size()"
   ]
  },
  {
   "cell_type": "code",
   "execution_count": 31,
   "id": "4df303e4",
   "metadata": {},
   "outputs": [
    {
     "data": {
      "text/plain": [
       "(278848, 11)"
      ]
     },
     "execution_count": 31,
     "metadata": {},
     "output_type": "execute_result"
    }
   ],
   "source": [
    "Covid_.shape"
   ]
  },
  {
   "cell_type": "code",
   "execution_count": 32,
   "id": "e2043f06",
   "metadata": {},
   "outputs": [
    {
     "data": {
      "text/plain": [
       "Corona\n",
       "negative    260227\n",
       "other         3892\n",
       "positive     14729\n",
       "dtype: int64"
      ]
     },
     "execution_count": 32,
     "metadata": {},
     "output_type": "execute_result"
    }
   ],
   "source": [
    "#checking for the size of 'other' in corona column\n",
    "corona1 = Covid_.groupby('Corona')\n",
    "corona1.size()"
   ]
  },
  {
   "cell_type": "code",
   "execution_count": 33,
   "id": "f3f8988f",
   "metadata": {},
   "outputs": [
    {
     "data": {
      "text/plain": [
       "Ind_ID                      0\n",
       "Test_date                   0\n",
       "Cough_symptoms            252\n",
       "Fever                     252\n",
       "Sore_throat                 1\n",
       "Shortness_of_breath         1\n",
       "Headache                    1\n",
       "Corona                      0\n",
       "Age_60_above           127320\n",
       "Sex                     19563\n",
       "Known_contact               0\n",
       "dtype: int64"
      ]
     },
     "execution_count": 33,
     "metadata": {},
     "output_type": "execute_result"
    }
   ],
   "source": [
    "#Checking for missing values\n",
    "Covid_.isnull().sum()"
   ]
  },
  {
   "cell_type": "markdown",
   "id": "5e2a1e75",
   "metadata": {},
   "source": [
    "Age_60_above,Sex has more than 45% missing values which i should drop this column as this column has no significant effect on the outcome."
   ]
  },
  {
   "cell_type": "code",
   "execution_count": 34,
   "id": "bb5c2bf2",
   "metadata": {},
   "outputs": [],
   "source": [
    "#setting index \n",
    "Covid_ = Covid_.set_index('Ind_ID')"
   ]
  },
  {
   "cell_type": "code",
   "execution_count": 35,
   "id": "9bd3d9c7",
   "metadata": {},
   "outputs": [],
   "source": [
    "Covid_ = Covid_[Covid_['Corona'] != 'other'] # drop the values other in Corona column"
   ]
  },
  {
   "cell_type": "code",
   "execution_count": 36,
   "id": "fab51315",
   "metadata": {},
   "outputs": [
    {
     "data": {
      "text/plain": [
       "(274956, 10)"
      ]
     },
     "execution_count": 36,
     "metadata": {},
     "output_type": "execute_result"
    }
   ],
   "source": [
    "Covid_.shape"
   ]
  },
  {
   "cell_type": "code",
   "execution_count": 41,
   "id": "2fbd1f92",
   "metadata": {},
   "outputs": [],
   "source": [
    "# droping age_60_above column as it has more than 45 % data is null\n",
    "Covid_ = Covid_.drop(['Age_60_above'],axis = 1)"
   ]
  },
  {
   "cell_type": "code",
   "execution_count": 43,
   "id": "403481c9",
   "metadata": {},
   "outputs": [],
   "source": [
    "#just reordering the columns and not taking the date column\n",
    "Covid_row = Covid_.iloc[:,[0,1,2,3,4,5,7,8,6]]"
   ]
  },
  {
   "cell_type": "markdown",
   "id": "4c14b5b3",
   "metadata": {},
   "source": [
    "## Univariate Analysis"
   ]
  },
  {
   "cell_type": "code",
   "execution_count": 44,
   "id": "548562c2",
   "metadata": {},
   "outputs": [
    {
     "data": {
      "text/plain": [
       "<AxesSubplot:ylabel='Cough_symptoms'>"
      ]
     },
     "execution_count": 44,
     "metadata": {},
     "output_type": "execute_result"
    },
    {
     "data": {
      "image/png": "[encoded data removed]",
      "text/plain": [
       "<Figure size 432x288 with 1 Axes>"
      ]
     },
     "metadata": {},
     "output_type": "display_data"
    }
   ],
   "source": [
    "Covid_row['Cough_symptoms'].value_counts().plot(kind='pie',autopct='%0.1f%%')"
   ]
  },
  {
   "cell_type": "code",
   "execution_count": 45,
   "id": "346b7cf2",
   "metadata": {},
   "outputs": [
    {
     "data": {
      "text/plain": [
       "<AxesSubplot:ylabel='Fever'>"
      ]
     },
     "execution_count": 45,
     "metadata": {},
     "output_type": "execute_result"
    },
    {
     "data": {
      "image/png": "[encoded data removed]",
      "text/plain": [
       "<Figure size 432x288 with 1 Axes>"
      ]
     },
     "metadata": {},
     "output_type": "display_data"
    }
   ],
   "source": [
    "Covid_row['Fever'].value_counts().plot(kind='pie',autopct='%0.1f%%')"
   ]
  },
  {
   "cell_type": "code",
   "execution_count": 46,
   "id": "bc3d673f",
   "metadata": {},
   "outputs": [
    {
     "data": {
      "text/plain": [
       "<AxesSubplot:ylabel='Sore_throat'>"
      ]
     },
     "execution_count": 46,
     "metadata": {},
     "output_type": "execute_result"
    },
    {
     "data": {
      "image/png": "[encoded data removed]",
      "text/plain": [
       "<Figure size 432x288 with 1 Axes>"
      ]
     },
     "metadata": {},
     "output_type": "display_data"
    }
   ],
   "source": [
    "Covid_row['Sore_throat'].value_counts().plot(kind='pie',autopct='%0.1f%%')"
   ]
  },
  {
   "cell_type": "code",
   "execution_count": 47,
   "id": "a00dedfc",
   "metadata": {},
   "outputs": [
    {
     "data": {
      "text/plain": [
       "<AxesSubplot:ylabel='Shortness_of_breath'>"
      ]
     },
     "execution_count": 47,
     "metadata": {},
     "output_type": "execute_result"
    },
    {
     "data": {
      "image/png": "[encoded data removed]",
      "text/plain": [
       "<Figure size 432x288 with 1 Axes>"
      ]
     },
     "metadata": {},
     "output_type": "display_data"
    }
   ],
   "source": [
    "Covid_row['Shortness_of_breath'].value_counts().plot(kind='pie',autopct='%0.1f%%')"
   ]
  },
  {
   "cell_type": "code",
   "execution_count": 48,
   "id": "5c233bf5",
   "metadata": {},
   "outputs": [
    {
     "data": {
      "text/plain": [
       "<AxesSubplot:ylabel='Headache'>"
      ]
     },
     "execution_count": 48,
     "metadata": {},
     "output_type": "execute_result"
    },
    {
     "data": {
      "image/png": "[encoded data removed]",
      "text/plain": [
       "<Figure size 432x288 with 1 Axes>"
      ]
     },
     "metadata": {},
     "output_type": "display_data"
    }
   ],
   "source": [
    "Covid_row['Headache'].value_counts().plot(kind='pie',autopct='%0.1f%%')"
   ]
  },
  {
   "cell_type": "code",
   "execution_count": 49,
   "id": "70b8b50d",
   "metadata": {},
   "outputs": [
    {
     "data": {
      "text/plain": [
       "<AxesSubplot:ylabel='Corona'>"
      ]
     },
     "execution_count": 49,
     "metadata": {},
     "output_type": "execute_result"
    },
    {
     "data": {
      "image/png": "[encoded data removed]",
      "text/plain": [
       "<Figure size 432x288 with 1 Axes>"
      ]
     },
     "metadata": {},
     "output_type": "display_data"
    }
   ],
   "source": [
    "Covid_row['Corona'].value_counts().plot(kind='pie',autopct='%0.1f%%')"
   ]
  },
  {
   "cell_type": "code",
   "execution_count": 50,
   "id": "4bb09280",
   "metadata": {},
   "outputs": [
    {
     "data": {
      "text/plain": [
       "<AxesSubplot:ylabel='Sex'>"
      ]
     },
     "execution_count": 50,
     "metadata": {},
     "output_type": "execute_result"
    },
    {
     "data": {
      "image/png": "[encoded data removed]",
      "text/plain": [
       "<Figure size 432x288 with 1 Axes>"
      ]
     },
     "metadata": {},
     "output_type": "display_data"
    }
   ],
   "source": [
    "Covid_row['Sex'].value_counts().plot(kind='pie',autopct='%0.1f%%')"
   ]
  },
  {
   "cell_type": "code",
   "execution_count": 51,
   "id": "12769378",
   "metadata": {},
   "outputs": [
    {
     "data": {
      "text/plain": [
       "<AxesSubplot:ylabel='Known_contact'>"
      ]
     },
     "execution_count": 51,
     "metadata": {},
     "output_type": "execute_result"
    },
    {
     "data": {
      "image/png": "[encoded data removed]",
      "text/plain": [
       "<Figure size 432x288 with 1 Axes>"
      ]
     },
     "metadata": {},
     "output_type": "display_data"
    }
   ],
   "source": [
    "Covid_row['Known_contact'].value_counts().plot(kind='pie',autopct='%0.1f%%')"
   ]
  },
  {
   "cell_type": "markdown",
   "id": "3f330537",
   "metadata": {},
   "source": [
    "## Bivariate Ananlysis with target column"
   ]
  },
  {
   "cell_type": "code",
   "execution_count": 52,
   "id": "4127ac67",
   "metadata": {},
   "outputs": [
    {
     "data": {
      "text/plain": [
       "<AxesSubplot:xlabel='Cough_symptoms', ylabel='Corona'>"
      ]
     },
     "execution_count": 52,
     "metadata": {},
     "output_type": "execute_result"
    },
    {
     "data": {
      "image/png": "[encoded data removed]",
      "text/plain": [
       "<Figure size 432x288 with 2 Axes>"
      ]
     },
     "metadata": {
      "needs_background": "light"
     },
     "output_type": "display_data"
    }
   ],
   "source": [
    "sns.heatmap(pd.crosstab(Covid_row['Corona'],Covid_row['Cough_symptoms'],normalize='columns')*100)"
   ]
  },
  {
   "cell_type": "code",
   "execution_count": 53,
   "id": "0c1c3c6f",
   "metadata": {},
   "outputs": [
    {
     "data": {
      "text/plain": [
       "<AxesSubplot:xlabel='Fever', ylabel='Corona'>"
      ]
     },
     "execution_count": 53,
     "metadata": {},
     "output_type": "execute_result"
    },
    {
     "data": {
      "image/png": "[encoded data removed]",
      "text/plain": [
       "<Figure size 432x288 with 2 Axes>"
      ]
     },
     "metadata": {
      "needs_background": "light"
     },
     "output_type": "display_data"
    }
   ],
   "source": [
    "sns.heatmap(pd.crosstab(Covid_row['Corona'],Covid_row['Fever'],normalize='columns')*100)"
   ]
  },
  {
   "cell_type": "code",
   "execution_count": 54,
   "id": "720d475b",
   "metadata": {},
   "outputs": [
    {
     "data": {
      "text/plain": [
       "<AxesSubplot:xlabel='Sore_throat', ylabel='Corona'>"
      ]
     },
     "execution_count": 54,
     "metadata": {},
     "output_type": "execute_result"
    },
    {
     "data": {
      "image/png": "[encoded data removed]",
      "text/plain": [
       "<Figure size 432x288 with 2 Axes>"
      ]
     },
     "metadata": {
      "needs_background": "light"
     },
     "output_type": "display_data"
    }
   ],
   "source": [
    "sns.heatmap(pd.crosstab(Covid_row['Corona'],Covid_row['Sore_throat'],normalize='columns')*100)"
   ]
  },
  {
   "cell_type": "code",
   "execution_count": 55,
   "id": "57012b8e",
   "metadata": {},
   "outputs": [
    {
     "data": {
      "text/plain": [
       "<AxesSubplot:xlabel='Shortness_of_breath', ylabel='Corona'>"
      ]
     },
     "execution_count": 55,
     "metadata": {},
     "output_type": "execute_result"
    },
    {
     "data": {
      "image/png": "[encoded data removed]",
      "text/plain": [
       "<Figure size 432x288 with 2 Axes>"
      ]
     },
     "metadata": {
      "needs_background": "light"
     },
     "output_type": "display_data"
    }
   ],
   "source": [
    "sns.heatmap(pd.crosstab(Covid_row['Corona'],Covid_row['Shortness_of_breath'],normalize='columns')*100)"
   ]
  },
  {
   "cell_type": "code",
   "execution_count": 56,
   "id": "cbe1bc06",
   "metadata": {},
   "outputs": [
    {
     "data": {
      "text/plain": [
       "<AxesSubplot:xlabel='Headache', ylabel='Corona'>"
      ]
     },
     "execution_count": 56,
     "metadata": {},
     "output_type": "execute_result"
    },
    {
     "data": {
      "image/png": "[encoded data removed]",
      "text/plain": [
       "<Figure size 432x288 with 2 Axes>"
      ]
     },
     "metadata": {
      "needs_background": "light"
     },
     "output_type": "display_data"
    }
   ],
   "source": [
    "sns.heatmap(pd.crosstab(Covid_row['Corona'],Covid_row['Headache'],normalize='columns')*100)"
   ]
  },
  {
   "cell_type": "code",
   "execution_count": 57,
   "id": "80862f78",
   "metadata": {},
   "outputs": [
    {
     "data": {
      "text/plain": [
       "<AxesSubplot:xlabel='Sex', ylabel='Corona'>"
      ]
     },
     "execution_count": 57,
     "metadata": {},
     "output_type": "execute_result"
    },
    {
     "data": {
      "image/png": "[encoded data removed]",
      "text/plain": [
       "<Figure size 432x288 with 2 Axes>"
      ]
     },
     "metadata": {
      "needs_background": "light"
     },
     "output_type": "display_data"
    }
   ],
   "source": [
    "sns.heatmap(pd.crosstab(Covid_row['Corona'],Covid_row['Sex'],normalize='columns')*100)"
   ]
  },
  {
   "cell_type": "code",
   "execution_count": 58,
   "id": "3bf9a20c",
   "metadata": {},
   "outputs": [
    {
     "data": {
      "text/plain": [
       "<AxesSubplot:xlabel='Known_contact', ylabel='Corona'>"
      ]
     },
     "execution_count": 58,
     "metadata": {},
     "output_type": "execute_result"
    },
    {
     "data": {
      "image/png": "[encoded data removed]",
      "text/plain": [
       "<Figure size 432x288 with 2 Axes>"
      ]
     },
     "metadata": {
      "needs_background": "light"
     },
     "output_type": "display_data"
    }
   ],
   "source": [
    "sns.heatmap(pd.crosstab(Covid_row['Corona'],Covid_row['Known_contact'],normalize='columns')*100)"
   ]
  },
  {
   "cell_type": "markdown",
   "id": "b770bd3f",
   "metadata": {},
   "source": [
    "### Dealing with missing data"
   ]
  },
  {
   "cell_type": "code",
   "execution_count": 76,
   "id": "aadb3330",
   "metadata": {},
   "outputs": [],
   "source": [
    "Covid_test = Covid_row.copy(deep = True)"
   ]
  },
  {
   "cell_type": "code",
   "execution_count": 77,
   "id": "fd7cc994",
   "metadata": {},
   "outputs": [
    {
     "data": {
      "text/plain": [
       "Test_date                  0\n",
       "Cough_symptoms           252\n",
       "Fever                    252\n",
       "Sore_throat                1\n",
       "Shortness_of_breath        1\n",
       "Headache                   1\n",
       "Sex                    19045\n",
       "Known_contact              0\n",
       "Corona                     0\n",
       "dtype: int64"
      ]
     },
     "execution_count": 77,
     "metadata": {},
     "output_type": "execute_result"
    }
   ],
   "source": [
    "Covid_test.isnull().sum()"
   ]
  },
  {
   "cell_type": "code",
   "execution_count": 78,
   "id": "8ee99bfb",
   "metadata": {},
   "outputs": [
    {
     "data": {
      "text/plain": [
       "<AxesSubplot:>"
      ]
     },
     "execution_count": 78,
     "metadata": {},
     "output_type": "execute_result"
    },
    {
     "data": {
      "image/png": "[encoded data removed]",
      "text/plain": [
       "<Figure size 1800x720 with 3 Axes>"
      ]
     },
     "metadata": {
      "needs_background": "light"
     },
     "output_type": "display_data"
    }
   ],
   "source": [
    "import missingno as msno # library to examine missing values\n",
    "# creating bar plot to see the missing values\n",
    "msno.bar(Covid_test)"
   ]
  },
  {
   "cell_type": "code",
   "execution_count": 79,
   "id": "6c73aa79",
   "metadata": {},
   "outputs": [
    {
     "data": {
      "text/plain": [
       "<AxesSubplot:>"
      ]
     },
     "execution_count": 79,
     "metadata": {},
     "output_type": "execute_result"
    },
    {
     "data": {
      "image/png": "[encoded data removed]",
      "text/plain": [
       "<Figure size 1800x720 with 2 Axes>"
      ]
     },
     "metadata": {
      "needs_background": "light"
     },
     "output_type": "display_data"
    }
   ],
   "source": [
    "# creating matrix plot to see the pattern in missing values \n",
    "msno.matrix(Covid_test)"
   ]
  },
  {
   "cell_type": "code",
   "execution_count": 80,
   "id": "de30c7e4",
   "metadata": {},
   "outputs": [
    {
     "data": {
      "text/plain": [
       "<AxesSubplot:>"
      ]
     },
     "execution_count": 80,
     "metadata": {},
     "output_type": "execute_result"
    },
    {
     "data": {
      "image/png": "[encoded data removed]",
      "text/plain": [
       "<Figure size 1440x864 with 2 Axes>"
      ]
     },
     "metadata": {
      "needs_background": "light"
     },
     "output_type": "display_data"
    }
   ],
   "source": [
    "msno.heatmap(Covid_test)"
   ]
  },
  {
   "cell_type": "markdown",
   "id": "dd269171",
   "metadata": {},
   "source": [
    "Fever                 \n",
    "Sore_throat           \n",
    "Shortness_of_breath, \n",
    "Headache  are in correlation with Corona"
   ]
  },
  {
   "cell_type": "code",
   "execution_count": 81,
   "id": "711bb803",
   "metadata": {},
   "outputs": [
    {
     "data": {
      "text/plain": [
       "Test_date                  0\n",
       "Cough_symptoms           252\n",
       "Fever                    252\n",
       "Sore_throat                1\n",
       "Shortness_of_breath        1\n",
       "Headache                   1\n",
       "Sex                    19045\n",
       "Known_contact              0\n",
       "Corona                     0\n",
       "dtype: int64"
      ]
     },
     "execution_count": 81,
     "metadata": {},
     "output_type": "execute_result"
    }
   ],
   "source": [
    "Covid_test.isnull().sum()"
   ]
  },
  {
   "cell_type": "code",
   "execution_count": 230,
   "id": "ca83535c",
   "metadata": {},
   "outputs": [],
   "source": [
    "#deleting the missing values with dropna\n",
    "Covid_test.dropna(inplace = True)"
   ]
  },
  {
   "cell_type": "code",
   "execution_count": 231,
   "id": "0dbbbc07",
   "metadata": {},
   "outputs": [
    {
     "data": {
      "text/plain": [
       "Test_date              0\n",
       "Cough_symptoms         0\n",
       "Fever                  0\n",
       "Sore_throat            0\n",
       "Shortness_of_breath    0\n",
       "Headache               0\n",
       "Sex                    0\n",
       "Known_contact          0\n",
       "Corona                 0\n",
       "dtype: int64"
      ]
     },
     "execution_count": 231,
     "metadata": {},
     "output_type": "execute_result"
    }
   ],
   "source": [
    "Covid_test.isnull().sum() "
   ]
  },
  {
   "cell_type": "markdown",
   "id": "f609acbf",
   "metadata": {},
   "source": [
    "## Feature Engineering and Selection "
   ]
  },
  {
   "cell_type": "code",
   "execution_count": 232,
   "id": "f6a7e48e",
   "metadata": {},
   "outputs": [],
   "source": [
    "Covid_Test1= Covid_test.copy(deep=True)"
   ]
  },
  {
   "cell_type": "markdown",
   "id": "da397e43",
   "metadata": {},
   "source": [
    "#### Dealing with Categorical Data"
   ]
  },
  {
   "cell_type": "code",
   "execution_count": 234,
   "id": "6afbff65",
   "metadata": {},
   "outputs": [],
   "source": [
    "#label encoding on corona column\n",
    "# Import label encoder\n",
    "from sklearn import preprocessing\n",
    "label_encoder = preprocessing.LabelEncoder()\n",
    "  \n",
    "# Encode labels in column 'Corona'.\n",
    "Covid_Test1['Corona']= label_encoder.fit_transform(Covid_Test1['Corona'])"
   ]
  },
  {
   "cell_type": "code",
   "execution_count": 235,
   "id": "1d70ab2a",
   "metadata": {},
   "outputs": [],
   "source": [
    "# to do feature scaling\n",
    "dummy_ = pd.get_dummies(Covid_Test1,columns= ['Sex','Known_contact'],drop_first = True)\n",
    "dummy_= dummy_.iloc[:,[1,2,3,4,5,7,8,6]]"
   ]
  },
  {
   "cell_type": "code",
   "execution_count": 236,
   "id": "7b067300",
   "metadata": {},
   "outputs": [
    {
     "data": {
      "text/html": [
       "<div>\n",
       "<style scoped>\n",
       "    .dataframe tbody tr th:only-of-type {\n",
       "        vertical-align: middle;\n",
       "    }\n",
       "\n",
       "    .dataframe tbody tr th {\n",
       "        vertical-align: top;\n",
       "    }\n",
       "\n",
       "    .dataframe thead th {\n",
       "        text-align: right;\n",
       "    }\n",
       "</style>\n",
       "<table border=\"1\" class=\"dataframe\">\n",
       "  <thead>\n",
       "    <tr style=\"text-align: right;\">\n",
       "      <th></th>\n",
       "      <th>Cough_symptoms</th>\n",
       "      <th>Fever</th>\n",
       "      <th>Sore_throat</th>\n",
       "      <th>Shortness_of_breath</th>\n",
       "      <th>Headache</th>\n",
       "      <th>Sex_male</th>\n",
       "      <th>Known_contact_Contact with confirmed</th>\n",
       "      <th>Corona</th>\n",
       "    </tr>\n",
       "    <tr>\n",
       "      <th>Ind_ID</th>\n",
       "      <th></th>\n",
       "      <th></th>\n",
       "      <th></th>\n",
       "      <th></th>\n",
       "      <th></th>\n",
       "      <th></th>\n",
       "      <th></th>\n",
       "      <th></th>\n",
       "    </tr>\n",
       "  </thead>\n",
       "  <tbody>\n",
       "    <tr>\n",
       "      <th>13728</th>\n",
       "      <td>True</td>\n",
       "      <td>False</td>\n",
       "      <td>False</td>\n",
       "      <td>False</td>\n",
       "      <td>False</td>\n",
       "      <td>1</td>\n",
       "      <td>0</td>\n",
       "      <td>0</td>\n",
       "    </tr>\n",
       "    <tr>\n",
       "      <th>13729</th>\n",
       "      <td>True</td>\n",
       "      <td>False</td>\n",
       "      <td>False</td>\n",
       "      <td>False</td>\n",
       "      <td>False</td>\n",
       "      <td>0</td>\n",
       "      <td>0</td>\n",
       "      <td>0</td>\n",
       "    </tr>\n",
       "  </tbody>\n",
       "</table>\n",
       "</div>"
      ],
      "text/plain": [
       "       Cough_symptoms  Fever Sore_throat Shortness_of_breath Headache  \\\n",
       "Ind_ID                                                                  \n",
       "13728            True  False       False               False    False   \n",
       "13729            True  False       False               False    False   \n",
       "\n",
       "        Sex_male  Known_contact_Contact with confirmed  Corona  \n",
       "Ind_ID                                                          \n",
       "13728          1                                     0       0  \n",
       "13729          0                                     0       0  "
      ]
     },
     "execution_count": 236,
     "metadata": {},
     "output_type": "execute_result"
    }
   ],
   "source": [
    "dummy_.head(2)"
   ]
  },
  {
   "cell_type": "code",
   "execution_count": null,
   "id": "d6844627",
   "metadata": {},
   "outputs": [],
   "source": []
  },
  {
   "cell_type": "markdown",
   "id": "30ad48f4",
   "metadata": {},
   "source": [
    "### Feature selection"
   ]
  },
  {
   "cell_type": "markdown",
   "id": "3d466a65",
   "metadata": {},
   "source": [
    "### chi2 test"
   ]
  },
  {
   "cell_type": "code",
   "execution_count": 237,
   "id": "06d5b9cb",
   "metadata": {},
   "outputs": [],
   "source": [
    "import sklearn\n",
    "from sklearn.feature_selection import SelectKBest\n",
    "from sklearn.feature_selection import chi2"
   ]
  },
  {
   "cell_type": "code",
   "execution_count": 238,
   "id": "8faf8738",
   "metadata": {},
   "outputs": [],
   "source": [
    "# Split the data into features and target\n",
    "X = dummy_.iloc[:, :-1]\n",
    "y = dummy_.iloc[:, -1]\n"
   ]
  },
  {
   "cell_type": "code",
   "execution_count": 239,
   "id": "b3015a1a",
   "metadata": {},
   "outputs": [
    {
     "data": {
      "text/html": [
       "<div>\n",
       "<style scoped>\n",
       "    .dataframe tbody tr th:only-of-type {\n",
       "        vertical-align: middle;\n",
       "    }\n",
       "\n",
       "    .dataframe tbody tr th {\n",
       "        vertical-align: top;\n",
       "    }\n",
       "\n",
       "    .dataframe thead th {\n",
       "        text-align: right;\n",
       "    }\n",
       "</style>\n",
       "<table border=\"1\" class=\"dataframe\">\n",
       "  <thead>\n",
       "    <tr style=\"text-align: right;\">\n",
       "      <th></th>\n",
       "      <th>Cough_symptoms</th>\n",
       "      <th>Fever</th>\n",
       "      <th>Sore_throat</th>\n",
       "      <th>Shortness_of_breath</th>\n",
       "      <th>Headache</th>\n",
       "      <th>Sex_male</th>\n",
       "      <th>Known_contact_Contact with confirmed</th>\n",
       "    </tr>\n",
       "    <tr>\n",
       "      <th>Ind_ID</th>\n",
       "      <th></th>\n",
       "      <th></th>\n",
       "      <th></th>\n",
       "      <th></th>\n",
       "      <th></th>\n",
       "      <th></th>\n",
       "      <th></th>\n",
       "    </tr>\n",
       "  </thead>\n",
       "  <tbody>\n",
       "    <tr>\n",
       "      <th>13728</th>\n",
       "      <td>True</td>\n",
       "      <td>False</td>\n",
       "      <td>False</td>\n",
       "      <td>False</td>\n",
       "      <td>False</td>\n",
       "      <td>1</td>\n",
       "      <td>0</td>\n",
       "    </tr>\n",
       "    <tr>\n",
       "      <th>13729</th>\n",
       "      <td>True</td>\n",
       "      <td>False</td>\n",
       "      <td>False</td>\n",
       "      <td>False</td>\n",
       "      <td>False</td>\n",
       "      <td>0</td>\n",
       "      <td>0</td>\n",
       "    </tr>\n",
       "  </tbody>\n",
       "</table>\n",
       "</div>"
      ],
      "text/plain": [
       "       Cough_symptoms  Fever Sore_throat Shortness_of_breath Headache  \\\n",
       "Ind_ID                                                                  \n",
       "13728            True  False       False               False    False   \n",
       "13729            True  False       False               False    False   \n",
       "\n",
       "        Sex_male  Known_contact_Contact with confirmed  \n",
       "Ind_ID                                                  \n",
       "13728          1                                     0  \n",
       "13729          0                                     0  "
      ]
     },
     "execution_count": 239,
     "metadata": {},
     "output_type": "execute_result"
    }
   ],
   "source": [
    "X.head(2)"
   ]
  },
  {
   "cell_type": "code",
   "execution_count": 240,
   "id": "efd4bf39",
   "metadata": {},
   "outputs": [
    {
     "data": {
      "text/plain": [
       "(array([ 8161.47000721, 15989.97741346, 21842.25009598, 15729.73264397,\n",
       "        34018.17312388,    93.34520088, 83254.65479038]),\n",
       " array([0.00000000e+00, 0.00000000e+00, 0.00000000e+00, 0.00000000e+00,\n",
       "        0.00000000e+00, 4.39245332e-22, 0.00000000e+00]))"
      ]
     },
     "execution_count": 240,
     "metadata": {},
     "output_type": "execute_result"
    }
   ],
   "source": [
    "sklearn.feature_selection.chi2(X, y)"
   ]
  },
  {
   "cell_type": "markdown",
   "id": "2d7b777a",
   "metadata": {},
   "source": [
    "As I can see that p value  for  Sex_male column  is greter and so that it is least effective for the outcome so will do not consider these for model eveluation."
   ]
  },
  {
   "cell_type": "code",
   "execution_count": 241,
   "id": "b5daf842",
   "metadata": {},
   "outputs": [],
   "source": [
    "Covid4 =Covid_Test1.copy(deep = True)"
   ]
  },
  {
   "cell_type": "code",
   "execution_count": 242,
   "id": "33bcc518",
   "metadata": {},
   "outputs": [],
   "source": [
    "Covid4 =Covid4.drop(['Sex'],axis = 1)"
   ]
  },
  {
   "cell_type": "code",
   "execution_count": 243,
   "id": "9951f83c",
   "metadata": {},
   "outputs": [
    {
     "data": {
      "text/html": [
       "<div>\n",
       "<style scoped>\n",
       "    .dataframe tbody tr th:only-of-type {\n",
       "        vertical-align: middle;\n",
       "    }\n",
       "\n",
       "    .dataframe tbody tr th {\n",
       "        vertical-align: top;\n",
       "    }\n",
       "\n",
       "    .dataframe thead th {\n",
       "        text-align: right;\n",
       "    }\n",
       "</style>\n",
       "<table border=\"1\" class=\"dataframe\">\n",
       "  <thead>\n",
       "    <tr style=\"text-align: right;\">\n",
       "      <th></th>\n",
       "      <th>Test_date</th>\n",
       "      <th>Cough_symptoms</th>\n",
       "      <th>Fever</th>\n",
       "      <th>Sore_throat</th>\n",
       "      <th>Shortness_of_breath</th>\n",
       "      <th>Headache</th>\n",
       "      <th>Known_contact</th>\n",
       "      <th>Corona</th>\n",
       "    </tr>\n",
       "    <tr>\n",
       "      <th>Ind_ID</th>\n",
       "      <th></th>\n",
       "      <th></th>\n",
       "      <th></th>\n",
       "      <th></th>\n",
       "      <th></th>\n",
       "      <th></th>\n",
       "      <th></th>\n",
       "      <th></th>\n",
       "    </tr>\n",
       "  </thead>\n",
       "  <tbody>\n",
       "    <tr>\n",
       "      <th>13728</th>\n",
       "      <td>2020-03-22</td>\n",
       "      <td>True</td>\n",
       "      <td>False</td>\n",
       "      <td>False</td>\n",
       "      <td>False</td>\n",
       "      <td>False</td>\n",
       "      <td>Abroad</td>\n",
       "      <td>0</td>\n",
       "    </tr>\n",
       "    <tr>\n",
       "      <th>13729</th>\n",
       "      <td>2020-03-22</td>\n",
       "      <td>True</td>\n",
       "      <td>False</td>\n",
       "      <td>False</td>\n",
       "      <td>False</td>\n",
       "      <td>False</td>\n",
       "      <td>Abroad</td>\n",
       "      <td>0</td>\n",
       "    </tr>\n",
       "  </tbody>\n",
       "</table>\n",
       "</div>"
      ],
      "text/plain": [
       "        Test_date Cough_symptoms  Fever Sore_throat Shortness_of_breath  \\\n",
       "Ind_ID                                                                    \n",
       "13728  2020-03-22           True  False       False               False   \n",
       "13729  2020-03-22           True  False       False               False   \n",
       "\n",
       "       Headache Known_contact  Corona  \n",
       "Ind_ID                                 \n",
       "13728     False        Abroad       0  \n",
       "13729     False        Abroad       0  "
      ]
     },
     "execution_count": 243,
     "metadata": {},
     "output_type": "execute_result"
    }
   ],
   "source": [
    "Covid4.head(2)"
   ]
  },
  {
   "cell_type": "markdown",
   "id": "0145b962",
   "metadata": {},
   "source": [
    "## Model Training ,Evaluation,Selection"
   ]
  },
  {
   "cell_type": "code",
   "execution_count": 244,
   "id": "994aaf26",
   "metadata": {},
   "outputs": [],
   "source": [
    "X = Covid4.iloc[:, [1,2,3,4,5,6]]\n",
    "Y = Covid4.iloc[:, -1]"
   ]
  },
  {
   "cell_type": "code",
   "execution_count": 245,
   "id": "f25c4396",
   "metadata": {},
   "outputs": [
    {
     "data": {
      "text/html": [
       "<div>\n",
       "<style scoped>\n",
       "    .dataframe tbody tr th:only-of-type {\n",
       "        vertical-align: middle;\n",
       "    }\n",
       "\n",
       "    .dataframe tbody tr th {\n",
       "        vertical-align: top;\n",
       "    }\n",
       "\n",
       "    .dataframe thead th {\n",
       "        text-align: right;\n",
       "    }\n",
       "</style>\n",
       "<table border=\"1\" class=\"dataframe\">\n",
       "  <thead>\n",
       "    <tr style=\"text-align: right;\">\n",
       "      <th></th>\n",
       "      <th>Cough_symptoms</th>\n",
       "      <th>Fever</th>\n",
       "      <th>Sore_throat</th>\n",
       "      <th>Shortness_of_breath</th>\n",
       "      <th>Headache</th>\n",
       "      <th>Known_contact</th>\n",
       "    </tr>\n",
       "    <tr>\n",
       "      <th>Ind_ID</th>\n",
       "      <th></th>\n",
       "      <th></th>\n",
       "      <th></th>\n",
       "      <th></th>\n",
       "      <th></th>\n",
       "      <th></th>\n",
       "    </tr>\n",
       "  </thead>\n",
       "  <tbody>\n",
       "    <tr>\n",
       "      <th>13728</th>\n",
       "      <td>True</td>\n",
       "      <td>False</td>\n",
       "      <td>False</td>\n",
       "      <td>False</td>\n",
       "      <td>False</td>\n",
       "      <td>Abroad</td>\n",
       "    </tr>\n",
       "    <tr>\n",
       "      <th>13729</th>\n",
       "      <td>True</td>\n",
       "      <td>False</td>\n",
       "      <td>False</td>\n",
       "      <td>False</td>\n",
       "      <td>False</td>\n",
       "      <td>Abroad</td>\n",
       "    </tr>\n",
       "  </tbody>\n",
       "</table>\n",
       "</div>"
      ],
      "text/plain": [
       "       Cough_symptoms  Fever Sore_throat Shortness_of_breath Headache  \\\n",
       "Ind_ID                                                                  \n",
       "13728            True  False       False               False    False   \n",
       "13729            True  False       False               False    False   \n",
       "\n",
       "       Known_contact  \n",
       "Ind_ID                \n",
       "13728         Abroad  \n",
       "13729         Abroad  "
      ]
     },
     "execution_count": 245,
     "metadata": {},
     "output_type": "execute_result"
    }
   ],
   "source": [
    "X.head(2)"
   ]
  },
  {
   "cell_type": "code",
   "execution_count": 246,
   "id": "5e610571",
   "metadata": {},
   "outputs": [
    {
     "data": {
      "text/plain": [
       "Ind_ID\n",
       "13728     0\n",
       "13729     0\n",
       "13731     1\n",
       "13735     0\n",
       "13736     0\n",
       "         ..\n",
       "278844    1\n",
       "278845    0\n",
       "278846    0\n",
       "278847    0\n",
       "278848    0\n",
       "Name: Corona, Length: 255668, dtype: int32"
      ]
     },
     "execution_count": 246,
     "metadata": {},
     "output_type": "execute_result"
    }
   ],
   "source": [
    "Y"
   ]
  },
  {
   "cell_type": "code",
   "execution_count": 247,
   "id": "a48b8bf9",
   "metadata": {},
   "outputs": [],
   "source": [
    "from sklearn.model_selection import train_test_split\n",
    "X_train, X_test, Y_train, Y_test = train_test_split(X, Y, test_size=0.25, random_state=101)"
   ]
  },
  {
   "cell_type": "code",
   "execution_count": 248,
   "id": "55eff007",
   "metadata": {},
   "outputs": [
    {
     "data": {
      "text/plain": [
       "((191751, 6), (191751,))"
      ]
     },
     "execution_count": 248,
     "metadata": {},
     "output_type": "execute_result"
    }
   ],
   "source": [
    "### both will have same shape\n",
    "X_train.shape, Y_train.shape"
   ]
  },
  {
   "cell_type": "code",
   "execution_count": 249,
   "id": "c69c73ae",
   "metadata": {},
   "outputs": [
    {
     "data": {
      "text/plain": [
       "0    181574\n",
       "1     10177\n",
       "Name: Corona, dtype: int64"
      ]
     },
     "execution_count": 249,
     "metadata": {},
     "output_type": "execute_result"
    }
   ],
   "source": [
    "Y_train.value_counts() # highly imbalance data"
   ]
  },
  {
   "cell_type": "code",
   "execution_count": 250,
   "id": "51315d0c",
   "metadata": {},
   "outputs": [
    {
     "data": {
      "text/plain": [
       "0    60562\n",
       "1     3355\n",
       "Name: Corona, dtype: int64"
      ]
     },
     "execution_count": 250,
     "metadata": {},
     "output_type": "execute_result"
    }
   ],
   "source": [
    "Y_test.value_counts()"
   ]
  },
  {
   "cell_type": "markdown",
   "id": "25203f16",
   "metadata": {},
   "source": [
    "### One Hot Encoding"
   ]
  },
  {
   "cell_type": "code",
   "execution_count": 251,
   "id": "cc9425da",
   "metadata": {},
   "outputs": [],
   "source": [
    "from sklearn.preprocessing import OneHotEncoder\n",
    "ohe = OneHotEncoder(handle_unknown='ignore',sparse=False, dtype =np.int32,drop = 'first')"
   ]
  },
  {
   "cell_type": "code",
   "execution_count": 256,
   "id": "ed38ca71",
   "metadata": {},
   "outputs": [],
   "source": [
    "X_train['Known_contact'] = ohe.fit_transform(X_train[['Known_contact']])"
   ]
  },
  {
   "cell_type": "code",
   "execution_count": 258,
   "id": "b1c6d374",
   "metadata": {},
   "outputs": [],
   "source": [
    "X_test['Known_contact'] = ohe.fit_transform(X_test[['Known_contact']])"
   ]
  },
  {
   "cell_type": "code",
   "execution_count": 259,
   "id": "1c14337e",
   "metadata": {},
   "outputs": [
    {
     "data": {
      "text/plain": [
       "((191751, 6), (191751,))"
      ]
     },
     "execution_count": 259,
     "metadata": {},
     "output_type": "execute_result"
    }
   ],
   "source": [
    "### both will have same shape\n",
    "X_train.shape, Y_train.shape"
   ]
  },
  {
   "cell_type": "code",
   "execution_count": 260,
   "id": "ad107a38",
   "metadata": {},
   "outputs": [
    {
     "data": {
      "text/plain": [
       "((63917, 6), (63917,))"
      ]
     },
     "execution_count": 260,
     "metadata": {},
     "output_type": "execute_result"
    }
   ],
   "source": [
    "### both will have same shape\n",
    "X_test.shape, Y_test.shape"
   ]
  },
  {
   "cell_type": "code",
   "execution_count": 261,
   "id": "7b2f10b3",
   "metadata": {},
   "outputs": [
    {
     "data": {
      "text/plain": [
       "0    181574\n",
       "1     10177\n",
       "Name: Corona, dtype: int64"
      ]
     },
     "execution_count": 261,
     "metadata": {},
     "output_type": "execute_result"
    }
   ],
   "source": [
    "Y_train.value_counts()"
   ]
  },
  {
   "cell_type": "markdown",
   "id": "730c371e",
   "metadata": {},
   "source": [
    "### Balancing the Dataset with undersampling technique"
   ]
  },
  {
   "cell_type": "code",
   "execution_count": 262,
   "id": "ff4bec50",
   "metadata": {},
   "outputs": [],
   "source": [
    "import imblearn\n",
    "from imblearn.under_sampling import RandomUnderSampler"
   ]
  },
  {
   "cell_type": "code",
   "execution_count": 263,
   "id": "31d64617",
   "metadata": {},
   "outputs": [],
   "source": [
    "rus = RandomUnderSampler()\n",
    "X_resampled, y_resampled = rus.fit_resample(X_train, Y_train)"
   ]
  },
  {
   "cell_type": "code",
   "execution_count": 264,
   "id": "40600775",
   "metadata": {},
   "outputs": [
    {
     "data": {
      "text/plain": [
       "0    10177\n",
       "1    10177\n",
       "Name: Corona, dtype: int64"
      ]
     },
     "execution_count": 264,
     "metadata": {},
     "output_type": "execute_result"
    }
   ],
   "source": [
    "y_resampled.value_counts()"
   ]
  },
  {
   "cell_type": "markdown",
   "id": "295fe6e9",
   "metadata": {},
   "source": [
    "## RandomForest"
   ]
  },
  {
   "cell_type": "code",
   "execution_count": 265,
   "id": "b3a39870",
   "metadata": {},
   "outputs": [],
   "source": [
    "from sklearn.ensemble import RandomForestClassifier\n",
    "from sklearn.model_selection import GridSearchCV\n",
    "from sklearn.metrics import classification_report"
   ]
  },
  {
   "cell_type": "code",
   "execution_count": 266,
   "id": "a9fe2cfa",
   "metadata": {},
   "outputs": [
    {
     "data": {
      "text/html": [
       "<div>\n",
       "<style scoped>\n",
       "    .dataframe tbody tr th:only-of-type {\n",
       "        vertical-align: middle;\n",
       "    }\n",
       "\n",
       "    .dataframe tbody tr th {\n",
       "        vertical-align: top;\n",
       "    }\n",
       "\n",
       "    .dataframe thead th {\n",
       "        text-align: right;\n",
       "    }\n",
       "</style>\n",
       "<table border=\"1\" class=\"dataframe\">\n",
       "  <thead>\n",
       "    <tr style=\"text-align: right;\">\n",
       "      <th></th>\n",
       "      <th>Cough_symptoms</th>\n",
       "      <th>Fever</th>\n",
       "      <th>Sore_throat</th>\n",
       "      <th>Shortness_of_breath</th>\n",
       "      <th>Headache</th>\n",
       "      <th>Known_contact</th>\n",
       "    </tr>\n",
       "  </thead>\n",
       "  <tbody>\n",
       "    <tr>\n",
       "      <th>0</th>\n",
       "      <td>False</td>\n",
       "      <td>False</td>\n",
       "      <td>False</td>\n",
       "      <td>False</td>\n",
       "      <td>False</td>\n",
       "      <td>0</td>\n",
       "    </tr>\n",
       "    <tr>\n",
       "      <th>1</th>\n",
       "      <td>False</td>\n",
       "      <td>False</td>\n",
       "      <td>False</td>\n",
       "      <td>False</td>\n",
       "      <td>False</td>\n",
       "      <td>0</td>\n",
       "    </tr>\n",
       "    <tr>\n",
       "      <th>2</th>\n",
       "      <td>False</td>\n",
       "      <td>False</td>\n",
       "      <td>False</td>\n",
       "      <td>False</td>\n",
       "      <td>False</td>\n",
       "      <td>0</td>\n",
       "    </tr>\n",
       "    <tr>\n",
       "      <th>3</th>\n",
       "      <td>False</td>\n",
       "      <td>False</td>\n",
       "      <td>False</td>\n",
       "      <td>False</td>\n",
       "      <td>False</td>\n",
       "      <td>0</td>\n",
       "    </tr>\n",
       "    <tr>\n",
       "      <th>4</th>\n",
       "      <td>False</td>\n",
       "      <td>False</td>\n",
       "      <td>False</td>\n",
       "      <td>False</td>\n",
       "      <td>False</td>\n",
       "      <td>0</td>\n",
       "    </tr>\n",
       "    <tr>\n",
       "      <th>...</th>\n",
       "      <td>...</td>\n",
       "      <td>...</td>\n",
       "      <td>...</td>\n",
       "      <td>...</td>\n",
       "      <td>...</td>\n",
       "      <td>...</td>\n",
       "    </tr>\n",
       "    <tr>\n",
       "      <th>20349</th>\n",
       "      <td>False</td>\n",
       "      <td>False</td>\n",
       "      <td>False</td>\n",
       "      <td>False</td>\n",
       "      <td>False</td>\n",
       "      <td>1</td>\n",
       "    </tr>\n",
       "    <tr>\n",
       "      <th>20350</th>\n",
       "      <td>True</td>\n",
       "      <td>False</td>\n",
       "      <td>False</td>\n",
       "      <td>False</td>\n",
       "      <td>False</td>\n",
       "      <td>0</td>\n",
       "    </tr>\n",
       "    <tr>\n",
       "      <th>20351</th>\n",
       "      <td>True</td>\n",
       "      <td>False</td>\n",
       "      <td>False</td>\n",
       "      <td>False</td>\n",
       "      <td>False</td>\n",
       "      <td>1</td>\n",
       "    </tr>\n",
       "    <tr>\n",
       "      <th>20352</th>\n",
       "      <td>True</td>\n",
       "      <td>False</td>\n",
       "      <td>False</td>\n",
       "      <td>True</td>\n",
       "      <td>True</td>\n",
       "      <td>1</td>\n",
       "    </tr>\n",
       "    <tr>\n",
       "      <th>20353</th>\n",
       "      <td>False</td>\n",
       "      <td>False</td>\n",
       "      <td>False</td>\n",
       "      <td>False</td>\n",
       "      <td>False</td>\n",
       "      <td>0</td>\n",
       "    </tr>\n",
       "  </tbody>\n",
       "</table>\n",
       "<p>20354 rows × 6 columns</p>\n",
       "</div>"
      ],
      "text/plain": [
       "      Cough_symptoms  Fever Sore_throat Shortness_of_breath Headache  \\\n",
       "0              False  False       False               False    False   \n",
       "1              False  False       False               False    False   \n",
       "2              False  False       False               False    False   \n",
       "3              False  False       False               False    False   \n",
       "4              False  False       False               False    False   \n",
       "...              ...    ...         ...                 ...      ...   \n",
       "20349          False  False       False               False    False   \n",
       "20350           True  False       False               False    False   \n",
       "20351           True  False       False               False    False   \n",
       "20352           True  False       False                True     True   \n",
       "20353          False  False       False               False    False   \n",
       "\n",
       "       Known_contact  \n",
       "0                  0  \n",
       "1                  0  \n",
       "2                  0  \n",
       "3                  0  \n",
       "4                  0  \n",
       "...              ...  \n",
       "20349              1  \n",
       "20350              0  \n",
       "20351              1  \n",
       "20352              1  \n",
       "20353              0  \n",
       "\n",
       "[20354 rows x 6 columns]"
      ]
     },
     "execution_count": 266,
     "metadata": {},
     "output_type": "execute_result"
    }
   ],
   "source": [
    "X_resampled"
   ]
  },
  {
   "cell_type": "code",
   "execution_count": 267,
   "id": "f7c7f3a7",
   "metadata": {},
   "outputs": [
    {
     "name": "stdout",
     "output_type": "stream",
     "text": [
      "Best parameters:  {'max_depth': 5, 'n_estimators': 50}\n",
      "Best score:  0.8427827197466107\n"
     ]
    }
   ],
   "source": [
    "# specify the hyperparameters to be tuned\n",
    "param_grid = {'n_estimators': [10, 50, 100], 'max_depth': [5, 10, 20]}\n",
    "\n",
    "# create a Random Forest classifier\n",
    "rf = RandomForestClassifier()\n",
    "\n",
    "# perform grid search with cross-validation\n",
    "grid_search1 = GridSearchCV(rf, param_grid, cv=5)\n",
    "grid_search1.fit(X_resampled, y_resampled)\n",
    "# print the best parameters and score\n",
    "print(\"Best parameters: \", grid_search1.best_params_)\n",
    "print(\"Best score: \", grid_search1.best_score_)"
   ]
  },
  {
   "cell_type": "code",
   "execution_count": 268,
   "id": "9f52ff2e",
   "metadata": {},
   "outputs": [],
   "source": [
    "# make predictions on the test set\n",
    "y_pred = grid_search1.predict(X_test)"
   ]
  },
  {
   "cell_type": "code",
   "execution_count": 269,
   "id": "d66874ca",
   "metadata": {},
   "outputs": [
    {
     "name": "stdout",
     "output_type": "stream",
     "text": [
      "Classification Report:\n",
      "               precision    recall  f1-score   support\n",
      "\n",
      "           0       0.99      0.93      0.96     60562\n",
      "           1       0.38      0.76      0.51      3355\n",
      "\n",
      "    accuracy                           0.92     63917\n",
      "   macro avg       0.68      0.85      0.73     63917\n",
      "weighted avg       0.95      0.92      0.93     63917\n",
      "\n"
     ]
    }
   ],
   "source": [
    "# generate the classification report\n",
    "report = classification_report(Y_test, y_pred)\n",
    "print(\"Classification Report:\\n\", report)"
   ]
  },
  {
   "cell_type": "markdown",
   "id": "ba4a1a1d",
   "metadata": {},
   "source": [
    "## Decision Tree"
   ]
  },
  {
   "cell_type": "code",
   "execution_count": 270,
   "id": "8f4dd69e",
   "metadata": {},
   "outputs": [],
   "source": [
    "from sklearn.tree import DecisionTreeClassifier\n",
    "from sklearn.model_selection import GridSearchCV"
   ]
  },
  {
   "cell_type": "code",
   "execution_count": 271,
   "id": "2dcf1e3b",
   "metadata": {},
   "outputs": [
    {
     "name": "stdout",
     "output_type": "stream",
     "text": [
      "Best hyperparameters: {'criterion': 'gini', 'max_depth': 6, 'min_samples_leaf': 1}\n"
     ]
    }
   ],
   "source": [
    "# Define the range of hyperparameters to be searched\n",
    "param_grid = {\n",
    "    \"max_depth\": np.arange(1, 20),\n",
    "    \"min_samples_leaf\": [1, 5, 10, 20],\n",
    "    \"criterion\": [\"gini\", \"entropy\"]\n",
    "}\n",
    "\n",
    "# Create a decision tree classifier\n",
    "dt = DecisionTreeClassifier()\n",
    "\n",
    "# Use GridSearchCV to search for the best hyperparameters\n",
    "grid_search = GridSearchCV(dt, param_grid, cv=5)\n",
    "grid_search.fit(X_resampled, y_resampled)\n",
    "\n",
    "# Get the best hyperparameters\n",
    "print(\"Best hyperparameters:\", grid_search.best_params_)"
   ]
  },
  {
   "cell_type": "code",
   "execution_count": 272,
   "id": "5c462eed",
   "metadata": {},
   "outputs": [],
   "source": [
    "# make predictions on the test set\n",
    "y_pred2 = grid_search.predict(X_test)"
   ]
  },
  {
   "cell_type": "code",
   "execution_count": 273,
   "id": "c829f097",
   "metadata": {},
   "outputs": [
    {
     "name": "stdout",
     "output_type": "stream",
     "text": [
      "Classification Report:\n",
      "               precision    recall  f1-score   support\n",
      "\n",
      "           0       0.99      0.93      0.96     60562\n",
      "           1       0.38      0.76      0.51      3355\n",
      "\n",
      "    accuracy                           0.92     63917\n",
      "   macro avg       0.68      0.85      0.73     63917\n",
      "weighted avg       0.95      0.92      0.93     63917\n",
      "\n"
     ]
    }
   ],
   "source": [
    "# generate the classification report\n",
    "report = classification_report(Y_test, y_pred2)\n",
    "print(\"Classification Report:\\n\", report)"
   ]
  },
  {
   "cell_type": "markdown",
   "id": "0a1887bc",
   "metadata": {},
   "source": [
    "## kNN"
   ]
  },
  {
   "cell_type": "code",
   "execution_count": 274,
   "id": "3016eeb8",
   "metadata": {},
   "outputs": [],
   "source": [
    "from sklearn.neighbors import KNeighborsClassifier "
   ]
  },
  {
   "cell_type": "code",
   "execution_count": 275,
   "id": "f9387732",
   "metadata": {},
   "outputs": [],
   "source": [
    "# create a KNN model\n",
    "knn = KNeighborsClassifier()"
   ]
  },
  {
   "cell_type": "code",
   "execution_count": 276,
   "id": "f91f02f9",
   "metadata": {},
   "outputs": [
    {
     "name": "stdout",
     "output_type": "stream",
     "text": [
      "Best parameters:  {'n_neighbors': 45, 'weights': 'distance'}\n",
      "Best score:  0.7502219510325627\n"
     ]
    }
   ],
   "source": [
    "# define the parameter grid for hyperparameter tuning\n",
    "param_grid = {'n_neighbors': np.arange(1, 50),\n",
    "              'weights': ['uniform', 'distance']}\n",
    "\n",
    "# create a grid search object\n",
    "grid_search = GridSearchCV(knn, param_grid, cv=5)\n",
    "\n",
    "# perform the grid search\n",
    "grid_search.fit(X_resampled, y_resampled)\n",
    "\n",
    "# print the best parameters and score\n",
    "print(\"Best parameters: \", grid_search.best_params_)\n",
    "print(\"Best score: \", grid_search.best_score_)\n"
   ]
  },
  {
   "cell_type": "code",
   "execution_count": 277,
   "id": "f1cc3b8e",
   "metadata": {},
   "outputs": [
    {
     "name": "stdout",
     "output_type": "stream",
     "text": [
      "Classification Report:\n",
      "               precision    recall  f1-score   support\n",
      "\n",
      "           0       0.97      1.00      0.98     60562\n",
      "           1       0.87      0.37      0.52      3355\n",
      "\n",
      "    accuracy                           0.96     63917\n",
      "   macro avg       0.92      0.68      0.75     63917\n",
      "weighted avg       0.96      0.96      0.96     63917\n",
      "\n"
     ]
    }
   ],
   "source": [
    "# make predictions on the test set\n",
    "y_pred = grid_search.predict(X_test)\n",
    "\n",
    "# generate the classification report\n",
    "report = classification_report(Y_test, y_pred)\n",
    "print(\"Classification Report:\\n\", report)"
   ]
  },
  {
   "cell_type": "markdown",
   "id": "a7f55336",
   "metadata": {},
   "source": [
    "## Conclusion:"
   ]
  },
  {
   "cell_type": "markdown",
   "id": "93fa7be7",
   "metadata": {},
   "source": [
    "Precision measures the percentage of correct positive predictions among all positive predictions. Recall measures the percentage of correct positive predictions among all actual positive instances. F1-score is the harmonic mean of precision and recall."
   ]
  },
  {
   "cell_type": "markdown",
   "id": "a9104b98",
   "metadata": {},
   "source": [
    "The KNN model has precision of 0.97 for class 0 (covid_negetive), recall of 0.37 for class 1 (covid_positive), and an overall weighted average f1-score of 0.96. The Decision Tree and random forest model both has same precision of 0.38 for class 1 (covid_positive), recall of 0.76 for class 1, and an overall weighted average f1-score of 0.93. "
   ]
  },
  {
   "cell_type": "markdown",
   "id": "4177bdba",
   "metadata": {},
   "source": [
    "#### \n",
    " - KNN worked well over Random forest and Decision tree\n",
    " - for balancing the data undersampled technique is good \n",
    " - for categorical data used one hot encoding \n",
    " - for feature selection chi^2 test is used\n",
    " - missing values was round 7% so simply i droped these values as data was alreddy big.\n"
   ]
  },
  {
   "cell_type": "markdown",
   "id": "b2c1e45b",
   "metadata": {},
   "source": [
    "## SQL Queries"
   ]
  },
  {
   "cell_type": "code",
   "execution_count": 171,
   "id": "eca2f737",
   "metadata": {},
   "outputs": [],
   "source": [
    "#!pip install pandas\n",
    "!pip install pandasql"
   ]
  },
  {
   "cell_type": "code",
   "execution_count": 173,
   "id": "915fe0fc",
   "metadata": {},
   "outputs": [
    {
     "data": {
      "text/html": [
       "<div>\n",
       "<style scoped>\n",
       "    .dataframe tbody tr th:only-of-type {\n",
       "        vertical-align: middle;\n",
       "    }\n",
       "\n",
       "    .dataframe tbody tr th {\n",
       "        vertical-align: top;\n",
       "    }\n",
       "\n",
       "    .dataframe thead th {\n",
       "        text-align: right;\n",
       "    }\n",
       "</style>\n",
       "<table border=\"1\" class=\"dataframe\">\n",
       "  <thead>\n",
       "    <tr style=\"text-align: right;\">\n",
       "      <th></th>\n",
       "      <th>Test_date</th>\n",
       "      <th>Cough_symptoms</th>\n",
       "      <th>Fever</th>\n",
       "      <th>Sore_throat</th>\n",
       "      <th>Shortness_of_breath</th>\n",
       "      <th>Headache</th>\n",
       "      <th>Sex</th>\n",
       "      <th>Known_contact</th>\n",
       "      <th>Corona</th>\n",
       "    </tr>\n",
       "    <tr>\n",
       "      <th>Ind_ID</th>\n",
       "      <th></th>\n",
       "      <th></th>\n",
       "      <th></th>\n",
       "      <th></th>\n",
       "      <th></th>\n",
       "      <th></th>\n",
       "      <th></th>\n",
       "      <th></th>\n",
       "      <th></th>\n",
       "    </tr>\n",
       "  </thead>\n",
       "  <tbody>\n",
       "    <tr>\n",
       "      <th>13728</th>\n",
       "      <td>2020-03-22</td>\n",
       "      <td>True</td>\n",
       "      <td>False</td>\n",
       "      <td>False</td>\n",
       "      <td>False</td>\n",
       "      <td>False</td>\n",
       "      <td>male</td>\n",
       "      <td>Abroad</td>\n",
       "      <td>0</td>\n",
       "    </tr>\n",
       "    <tr>\n",
       "      <th>13729</th>\n",
       "      <td>2020-03-22</td>\n",
       "      <td>True</td>\n",
       "      <td>False</td>\n",
       "      <td>False</td>\n",
       "      <td>False</td>\n",
       "      <td>False</td>\n",
       "      <td>female</td>\n",
       "      <td>Abroad</td>\n",
       "      <td>0</td>\n",
       "    </tr>\n",
       "  </tbody>\n",
       "</table>\n",
       "</div>"
      ],
      "text/plain": [
       "        Test_date Cough_symptoms  Fever Sore_throat Shortness_of_breath  \\\n",
       "Ind_ID                                                                    \n",
       "13728  2020-03-22           True  False       False               False   \n",
       "13729  2020-03-22           True  False       False               False   \n",
       "\n",
       "       Headache     Sex Known_contact  Corona  \n",
       "Ind_ID                                         \n",
       "13728     False    male        Abroad       0  \n",
       "13729     False  female        Abroad       0  "
      ]
     },
     "execution_count": 173,
     "metadata": {},
     "output_type": "execute_result"
    }
   ],
   "source": [
    "Covid_Test1.head(2)"
   ]
  },
  {
   "cell_type": "code",
   "execution_count": 278,
   "id": "6a314b2e",
   "metadata": {},
   "outputs": [],
   "source": [
    "from pandasql import sqldf"
   ]
  },
  {
   "cell_type": "code",
   "execution_count": 279,
   "id": "583eb554",
   "metadata": {},
   "outputs": [],
   "source": [
    "mysql = lambda q: sqldf(q, globals())"
   ]
  },
  {
   "cell_type": "markdown",
   "id": "aed7dd6f",
   "metadata": {},
   "source": [
    "##### Find the number of corona patients who faced shortness of breath."
   ]
  },
  {
   "cell_type": "code",
   "execution_count": 280,
   "id": "dae20ca3",
   "metadata": {},
   "outputs": [
    {
     "data": {
      "text/html": [
       "<div>\n",
       "<style scoped>\n",
       "    .dataframe tbody tr th:only-of-type {\n",
       "        vertical-align: middle;\n",
       "    }\n",
       "\n",
       "    .dataframe tbody tr th {\n",
       "        vertical-align: top;\n",
       "    }\n",
       "\n",
       "    .dataframe thead th {\n",
       "        text-align: right;\n",
       "    }\n",
       "</style>\n",
       "<table border=\"1\" class=\"dataframe\">\n",
       "  <thead>\n",
       "    <tr style=\"text-align: right;\">\n",
       "      <th></th>\n",
       "      <th>count(*)</th>\n",
       "    </tr>\n",
       "  </thead>\n",
       "  <tbody>\n",
       "    <tr>\n",
       "      <th>0</th>\n",
       "      <td>979</td>\n",
       "    </tr>\n",
       "  </tbody>\n",
       "</table>\n",
       "</div>"
      ],
      "text/plain": [
       "   count(*)\n",
       "0       979"
      ]
     },
     "execution_count": 280,
     "metadata": {},
     "output_type": "execute_result"
    }
   ],
   "source": [
    "mysql(\"\"\"SELECT count(*) FROM Covid_Test1 WHERE Shortness_of_breath = True and Corona  = 1\"\"\")"
   ]
  },
  {
   "cell_type": "markdown",
   "id": "cda4d385",
   "metadata": {},
   "source": [
    "#### Find the number of negative corona patients who have fever and sore_throat. "
   ]
  },
  {
   "cell_type": "code",
   "execution_count": 281,
   "id": "3ec6b189",
   "metadata": {},
   "outputs": [
    {
     "data": {
      "text/html": [
       "<div>\n",
       "<style scoped>\n",
       "    .dataframe tbody tr th:only-of-type {\n",
       "        vertical-align: middle;\n",
       "    }\n",
       "\n",
       "    .dataframe tbody tr th {\n",
       "        vertical-align: top;\n",
       "    }\n",
       "\n",
       "    .dataframe thead th {\n",
       "        text-align: right;\n",
       "    }\n",
       "</style>\n",
       "<table border=\"1\" class=\"dataframe\">\n",
       "  <thead>\n",
       "    <tr style=\"text-align: right;\">\n",
       "      <th></th>\n",
       "      <th>COUNT(*)</th>\n",
       "    </tr>\n",
       "  </thead>\n",
       "  <tbody>\n",
       "    <tr>\n",
       "      <th>0</th>\n",
       "      <td>50</td>\n",
       "    </tr>\n",
       "  </tbody>\n",
       "</table>\n",
       "</div>"
      ],
      "text/plain": [
       "   COUNT(*)\n",
       "0        50"
      ]
     },
     "execution_count": 281,
     "metadata": {},
     "output_type": "execute_result"
    }
   ],
   "source": [
    "mysql(\"\"\" SELECT COUNT(*)\n",
    "FROM Covid_Test1\n",
    "WHERE Corona = 0 AND Fever = True AND Sore_throat = True\"\"\")"
   ]
  },
  {
   "cell_type": "markdown",
   "id": "409649b9",
   "metadata": {},
   "source": [
    "#### Group the data by month and rank the number of positive cases."
   ]
  },
  {
   "cell_type": "code",
   "execution_count": 296,
   "id": "948ae0a7",
   "metadata": {},
   "outputs": [
    {
     "data": {
      "text/html": [
       "<div>\n",
       "<style scoped>\n",
       "    .dataframe tbody tr th:only-of-type {\n",
       "        vertical-align: middle;\n",
       "    }\n",
       "\n",
       "    .dataframe tbody tr th {\n",
       "        vertical-align: top;\n",
       "    }\n",
       "\n",
       "    .dataframe thead th {\n",
       "        text-align: right;\n",
       "    }\n",
       "</style>\n",
       "<table border=\"1\" class=\"dataframe\">\n",
       "  <thead>\n",
       "    <tr style=\"text-align: right;\">\n",
       "      <th></th>\n",
       "      <th>Month</th>\n",
       "      <th>Positive_Cases</th>\n",
       "    </tr>\n",
       "  </thead>\n",
       "  <tbody>\n",
       "    <tr>\n",
       "      <th>0</th>\n",
       "      <td>2020-03</td>\n",
       "      <td>5260</td>\n",
       "    </tr>\n",
       "    <tr>\n",
       "      <th>1</th>\n",
       "      <td>2020-04</td>\n",
       "      <td>4116</td>\n",
       "    </tr>\n",
       "    <tr>\n",
       "      <th>2</th>\n",
       "      <td>2020-01</td>\n",
       "      <td>677</td>\n",
       "    </tr>\n",
       "    <tr>\n",
       "      <th>3</th>\n",
       "      <td>2020-02</td>\n",
       "      <td>614</td>\n",
       "    </tr>\n",
       "    <tr>\n",
       "      <th>4</th>\n",
       "      <td>2020-05</td>\n",
       "      <td>505</td>\n",
       "    </tr>\n",
       "    <tr>\n",
       "      <th>5</th>\n",
       "      <td>2020-07</td>\n",
       "      <td>479</td>\n",
       "    </tr>\n",
       "    <tr>\n",
       "      <th>6</th>\n",
       "      <td>2020-06</td>\n",
       "      <td>392</td>\n",
       "    </tr>\n",
       "    <tr>\n",
       "      <th>7</th>\n",
       "      <td>2020-10</td>\n",
       "      <td>356</td>\n",
       "    </tr>\n",
       "    <tr>\n",
       "      <th>8</th>\n",
       "      <td>2020-11</td>\n",
       "      <td>289</td>\n",
       "    </tr>\n",
       "    <tr>\n",
       "      <th>9</th>\n",
       "      <td>2020-09</td>\n",
       "      <td>287</td>\n",
       "    </tr>\n",
       "    <tr>\n",
       "      <th>10</th>\n",
       "      <td>2020-12</td>\n",
       "      <td>286</td>\n",
       "    </tr>\n",
       "    <tr>\n",
       "      <th>11</th>\n",
       "      <td>2020-08</td>\n",
       "      <td>271</td>\n",
       "    </tr>\n",
       "  </tbody>\n",
       "</table>\n",
       "</div>"
      ],
      "text/plain": [
       "      Month  Positive_Cases\n",
       "0   2020-03            5260\n",
       "1   2020-04            4116\n",
       "2   2020-01             677\n",
       "3   2020-02             614\n",
       "4   2020-05             505\n",
       "5   2020-07             479\n",
       "6   2020-06             392\n",
       "7   2020-10             356\n",
       "8   2020-11             289\n",
       "9   2020-09             287\n",
       "10  2020-12             286\n",
       "11  2020-08             271"
      ]
     },
     "execution_count": 296,
     "metadata": {},
     "output_type": "execute_result"
    }
   ],
   "source": [
    "mysql(\"\"\"SELECT strftime('%Y-%m', Test_date) AS Month, \n",
    "       COUNT(*) AS Positive_Cases\n",
    "FROM Covid_Test1\n",
    "WHERE Corona = 1\n",
    "GROUP BY Month\n",
    "ORDER BY Positive_Cases DESC\"\"\")"
   ]
  },
  {
   "cell_type": "markdown",
   "id": "9f5c806b",
   "metadata": {},
   "source": [
    "#### Find the female negative corona patients who faced cough and headache."
   ]
  },
  {
   "cell_type": "code",
   "execution_count": 104,
   "id": "59706130",
   "metadata": {},
   "outputs": [
    {
     "data": {
      "text/html": [
       "<div>\n",
       "<style scoped>\n",
       "    .dataframe tbody tr th:only-of-type {\n",
       "        vertical-align: middle;\n",
       "    }\n",
       "\n",
       "    .dataframe tbody tr th {\n",
       "        vertical-align: top;\n",
       "    }\n",
       "\n",
       "    .dataframe thead th {\n",
       "        text-align: right;\n",
       "    }\n",
       "</style>\n",
       "<table border=\"1\" class=\"dataframe\">\n",
       "  <thead>\n",
       "    <tr style=\"text-align: right;\">\n",
       "      <th></th>\n",
       "      <th>Ind_ID</th>\n",
       "      <th>Test_date</th>\n",
       "      <th>Cough_symptoms</th>\n",
       "      <th>Fever</th>\n",
       "      <th>Sore_throat</th>\n",
       "      <th>Shortness_of_breath</th>\n",
       "      <th>Headache</th>\n",
       "      <th>Sex</th>\n",
       "      <th>Known_contact</th>\n",
       "      <th>Corona</th>\n",
       "    </tr>\n",
       "  </thead>\n",
       "  <tbody>\n",
       "    <tr>\n",
       "      <th>0</th>\n",
       "      <td>13756</td>\n",
       "      <td>2020-03-22 00:00:00.000000</td>\n",
       "      <td>1</td>\n",
       "      <td>1</td>\n",
       "      <td>1</td>\n",
       "      <td>0</td>\n",
       "      <td>1</td>\n",
       "      <td>female</td>\n",
       "      <td>Abroad</td>\n",
       "      <td>0</td>\n",
       "    </tr>\n",
       "    <tr>\n",
       "      <th>1</th>\n",
       "      <td>17289</td>\n",
       "      <td>2020-03-22 00:00:00.000000</td>\n",
       "      <td>1</td>\n",
       "      <td>1</td>\n",
       "      <td>1</td>\n",
       "      <td>0</td>\n",
       "      <td>1</td>\n",
       "      <td>female</td>\n",
       "      <td>Abroad</td>\n",
       "      <td>0</td>\n",
       "    </tr>\n",
       "    <tr>\n",
       "      <th>2</th>\n",
       "      <td>17657</td>\n",
       "      <td>2020-03-23 00:00:00.000000</td>\n",
       "      <td>1</td>\n",
       "      <td>0</td>\n",
       "      <td>1</td>\n",
       "      <td>0</td>\n",
       "      <td>1</td>\n",
       "      <td>female</td>\n",
       "      <td>Abroad</td>\n",
       "      <td>0</td>\n",
       "    </tr>\n",
       "    <tr>\n",
       "      <th>3</th>\n",
       "      <td>19554</td>\n",
       "      <td>2020-03-23 00:00:00.000000</td>\n",
       "      <td>1</td>\n",
       "      <td>1</td>\n",
       "      <td>0</td>\n",
       "      <td>0</td>\n",
       "      <td>1</td>\n",
       "      <td>female</td>\n",
       "      <td>Other</td>\n",
       "      <td>0</td>\n",
       "    </tr>\n",
       "    <tr>\n",
       "      <th>4</th>\n",
       "      <td>19615</td>\n",
       "      <td>2020-03-23 00:00:00.000000</td>\n",
       "      <td>1</td>\n",
       "      <td>0</td>\n",
       "      <td>1</td>\n",
       "      <td>1</td>\n",
       "      <td>1</td>\n",
       "      <td>female</td>\n",
       "      <td>Contact with confirmed</td>\n",
       "      <td>0</td>\n",
       "    </tr>\n",
       "    <tr>\n",
       "      <th>5</th>\n",
       "      <td>20248</td>\n",
       "      <td>2020-03-23 00:00:00.000000</td>\n",
       "      <td>1</td>\n",
       "      <td>1</td>\n",
       "      <td>0</td>\n",
       "      <td>0</td>\n",
       "      <td>1</td>\n",
       "      <td>female</td>\n",
       "      <td>Abroad</td>\n",
       "      <td>0</td>\n",
       "    </tr>\n",
       "    <tr>\n",
       "      <th>6</th>\n",
       "      <td>20253</td>\n",
       "      <td>2020-03-23 00:00:00.000000</td>\n",
       "      <td>1</td>\n",
       "      <td>1</td>\n",
       "      <td>0</td>\n",
       "      <td>0</td>\n",
       "      <td>1</td>\n",
       "      <td>female</td>\n",
       "      <td>Contact with confirmed</td>\n",
       "      <td>0</td>\n",
       "    </tr>\n",
       "    <tr>\n",
       "      <th>7</th>\n",
       "      <td>37904</td>\n",
       "      <td>2020-03-27 00:00:00.000000</td>\n",
       "      <td>1</td>\n",
       "      <td>1</td>\n",
       "      <td>1</td>\n",
       "      <td>1</td>\n",
       "      <td>1</td>\n",
       "      <td>female</td>\n",
       "      <td>Contact with confirmed</td>\n",
       "      <td>0</td>\n",
       "    </tr>\n",
       "    <tr>\n",
       "      <th>8</th>\n",
       "      <td>40616</td>\n",
       "      <td>2020-03-27 00:00:00.000000</td>\n",
       "      <td>1</td>\n",
       "      <td>0</td>\n",
       "      <td>0</td>\n",
       "      <td>1</td>\n",
       "      <td>1</td>\n",
       "      <td>female</td>\n",
       "      <td>Contact with confirmed</td>\n",
       "      <td>0</td>\n",
       "    </tr>\n",
       "    <tr>\n",
       "      <th>9</th>\n",
       "      <td>40752</td>\n",
       "      <td>2020-03-27 00:00:00.000000</td>\n",
       "      <td>1</td>\n",
       "      <td>1</td>\n",
       "      <td>0</td>\n",
       "      <td>0</td>\n",
       "      <td>1</td>\n",
       "      <td>female</td>\n",
       "      <td>Contact with confirmed</td>\n",
       "      <td>0</td>\n",
       "    </tr>\n",
       "    <tr>\n",
       "      <th>10</th>\n",
       "      <td>43650</td>\n",
       "      <td>2020-03-28 00:00:00.000000</td>\n",
       "      <td>1</td>\n",
       "      <td>0</td>\n",
       "      <td>1</td>\n",
       "      <td>1</td>\n",
       "      <td>1</td>\n",
       "      <td>female</td>\n",
       "      <td>Contact with confirmed</td>\n",
       "      <td>0</td>\n",
       "    </tr>\n",
       "    <tr>\n",
       "      <th>11</th>\n",
       "      <td>49678</td>\n",
       "      <td>2020-03-29 00:00:00.000000</td>\n",
       "      <td>1</td>\n",
       "      <td>1</td>\n",
       "      <td>0</td>\n",
       "      <td>0</td>\n",
       "      <td>1</td>\n",
       "      <td>female</td>\n",
       "      <td>Contact with confirmed</td>\n",
       "      <td>0</td>\n",
       "    </tr>\n",
       "    <tr>\n",
       "      <th>12</th>\n",
       "      <td>51034</td>\n",
       "      <td>2020-03-29 00:00:00.000000</td>\n",
       "      <td>1</td>\n",
       "      <td>0</td>\n",
       "      <td>0</td>\n",
       "      <td>0</td>\n",
       "      <td>1</td>\n",
       "      <td>female</td>\n",
       "      <td>Contact with confirmed</td>\n",
       "      <td>0</td>\n",
       "    </tr>\n",
       "    <tr>\n",
       "      <th>13</th>\n",
       "      <td>52740</td>\n",
       "      <td>2020-03-29 00:00:00.000000</td>\n",
       "      <td>1</td>\n",
       "      <td>1</td>\n",
       "      <td>1</td>\n",
       "      <td>0</td>\n",
       "      <td>1</td>\n",
       "      <td>female</td>\n",
       "      <td>Contact with confirmed</td>\n",
       "      <td>0</td>\n",
       "    </tr>\n",
       "    <tr>\n",
       "      <th>14</th>\n",
       "      <td>57155</td>\n",
       "      <td>2020-03-30 00:00:00.000000</td>\n",
       "      <td>1</td>\n",
       "      <td>0</td>\n",
       "      <td>1</td>\n",
       "      <td>0</td>\n",
       "      <td>1</td>\n",
       "      <td>female</td>\n",
       "      <td>Abroad</td>\n",
       "      <td>0</td>\n",
       "    </tr>\n",
       "    <tr>\n",
       "      <th>15</th>\n",
       "      <td>58101</td>\n",
       "      <td>2020-03-30 00:00:00.000000</td>\n",
       "      <td>1</td>\n",
       "      <td>0</td>\n",
       "      <td>1</td>\n",
       "      <td>0</td>\n",
       "      <td>1</td>\n",
       "      <td>female</td>\n",
       "      <td>Contact with confirmed</td>\n",
       "      <td>0</td>\n",
       "    </tr>\n",
       "    <tr>\n",
       "      <th>16</th>\n",
       "      <td>70026</td>\n",
       "      <td>2020-01-04 00:00:00.000000</td>\n",
       "      <td>1</td>\n",
       "      <td>1</td>\n",
       "      <td>0</td>\n",
       "      <td>0</td>\n",
       "      <td>1</td>\n",
       "      <td>female</td>\n",
       "      <td>Contact with confirmed</td>\n",
       "      <td>0</td>\n",
       "    </tr>\n",
       "    <tr>\n",
       "      <th>17</th>\n",
       "      <td>76125</td>\n",
       "      <td>2020-01-04 00:00:00.000000</td>\n",
       "      <td>1</td>\n",
       "      <td>1</td>\n",
       "      <td>1</td>\n",
       "      <td>1</td>\n",
       "      <td>1</td>\n",
       "      <td>female</td>\n",
       "      <td>Contact with confirmed</td>\n",
       "      <td>0</td>\n",
       "    </tr>\n",
       "    <tr>\n",
       "      <th>18</th>\n",
       "      <td>84586</td>\n",
       "      <td>2020-03-04 00:00:00.000000</td>\n",
       "      <td>1</td>\n",
       "      <td>0</td>\n",
       "      <td>1</td>\n",
       "      <td>0</td>\n",
       "      <td>1</td>\n",
       "      <td>female</td>\n",
       "      <td>Abroad</td>\n",
       "      <td>0</td>\n",
       "    </tr>\n",
       "    <tr>\n",
       "      <th>19</th>\n",
       "      <td>86104</td>\n",
       "      <td>2020-03-04 00:00:00.000000</td>\n",
       "      <td>1</td>\n",
       "      <td>0</td>\n",
       "      <td>1</td>\n",
       "      <td>1</td>\n",
       "      <td>1</td>\n",
       "      <td>female</td>\n",
       "      <td>Contact with confirmed</td>\n",
       "      <td>0</td>\n",
       "    </tr>\n",
       "    <tr>\n",
       "      <th>20</th>\n",
       "      <td>86109</td>\n",
       "      <td>2020-03-04 00:00:00.000000</td>\n",
       "      <td>1</td>\n",
       "      <td>0</td>\n",
       "      <td>0</td>\n",
       "      <td>1</td>\n",
       "      <td>1</td>\n",
       "      <td>female</td>\n",
       "      <td>Contact with confirmed</td>\n",
       "      <td>0</td>\n",
       "    </tr>\n",
       "    <tr>\n",
       "      <th>21</th>\n",
       "      <td>86145</td>\n",
       "      <td>2020-03-04 00:00:00.000000</td>\n",
       "      <td>1</td>\n",
       "      <td>0</td>\n",
       "      <td>1</td>\n",
       "      <td>1</td>\n",
       "      <td>1</td>\n",
       "      <td>female</td>\n",
       "      <td>Contact with confirmed</td>\n",
       "      <td>0</td>\n",
       "    </tr>\n",
       "    <tr>\n",
       "      <th>22</th>\n",
       "      <td>100555</td>\n",
       "      <td>2020-05-04 00:00:00.000000</td>\n",
       "      <td>1</td>\n",
       "      <td>0</td>\n",
       "      <td>0</td>\n",
       "      <td>0</td>\n",
       "      <td>1</td>\n",
       "      <td>female</td>\n",
       "      <td>Contact with confirmed</td>\n",
       "      <td>0</td>\n",
       "    </tr>\n",
       "    <tr>\n",
       "      <th>23</th>\n",
       "      <td>122243</td>\n",
       "      <td>2020-09-04 00:00:00.000000</td>\n",
       "      <td>1</td>\n",
       "      <td>1</td>\n",
       "      <td>0</td>\n",
       "      <td>1</td>\n",
       "      <td>1</td>\n",
       "      <td>female</td>\n",
       "      <td>Contact with confirmed</td>\n",
       "      <td>0</td>\n",
       "    </tr>\n",
       "    <tr>\n",
       "      <th>24</th>\n",
       "      <td>133573</td>\n",
       "      <td>2020-11-04 00:00:00.000000</td>\n",
       "      <td>1</td>\n",
       "      <td>0</td>\n",
       "      <td>1</td>\n",
       "      <td>1</td>\n",
       "      <td>1</td>\n",
       "      <td>female</td>\n",
       "      <td>Contact with confirmed</td>\n",
       "      <td>0</td>\n",
       "    </tr>\n",
       "    <tr>\n",
       "      <th>25</th>\n",
       "      <td>135059</td>\n",
       "      <td>2020-11-04 00:00:00.000000</td>\n",
       "      <td>1</td>\n",
       "      <td>1</td>\n",
       "      <td>1</td>\n",
       "      <td>0</td>\n",
       "      <td>1</td>\n",
       "      <td>female</td>\n",
       "      <td>Abroad</td>\n",
       "      <td>0</td>\n",
       "    </tr>\n",
       "    <tr>\n",
       "      <th>26</th>\n",
       "      <td>137748</td>\n",
       "      <td>2020-12-04 00:00:00.000000</td>\n",
       "      <td>1</td>\n",
       "      <td>1</td>\n",
       "      <td>1</td>\n",
       "      <td>0</td>\n",
       "      <td>1</td>\n",
       "      <td>female</td>\n",
       "      <td>Contact with confirmed</td>\n",
       "      <td>0</td>\n",
       "    </tr>\n",
       "    <tr>\n",
       "      <th>27</th>\n",
       "      <td>145561</td>\n",
       "      <td>2020-04-13 00:00:00.000000</td>\n",
       "      <td>1</td>\n",
       "      <td>0</td>\n",
       "      <td>0</td>\n",
       "      <td>0</td>\n",
       "      <td>1</td>\n",
       "      <td>female</td>\n",
       "      <td>Other</td>\n",
       "      <td>0</td>\n",
       "    </tr>\n",
       "    <tr>\n",
       "      <th>28</th>\n",
       "      <td>149178</td>\n",
       "      <td>2020-04-13 00:00:00.000000</td>\n",
       "      <td>1</td>\n",
       "      <td>0</td>\n",
       "      <td>0</td>\n",
       "      <td>0</td>\n",
       "      <td>1</td>\n",
       "      <td>female</td>\n",
       "      <td>Abroad</td>\n",
       "      <td>0</td>\n",
       "    </tr>\n",
       "    <tr>\n",
       "      <th>29</th>\n",
       "      <td>163207</td>\n",
       "      <td>2020-04-16 00:00:00.000000</td>\n",
       "      <td>1</td>\n",
       "      <td>0</td>\n",
       "      <td>0</td>\n",
       "      <td>0</td>\n",
       "      <td>1</td>\n",
       "      <td>female</td>\n",
       "      <td>Contact with confirmed</td>\n",
       "      <td>0</td>\n",
       "    </tr>\n",
       "    <tr>\n",
       "      <th>30</th>\n",
       "      <td>168703</td>\n",
       "      <td>2020-04-16 00:00:00.000000</td>\n",
       "      <td>1</td>\n",
       "      <td>0</td>\n",
       "      <td>1</td>\n",
       "      <td>1</td>\n",
       "      <td>1</td>\n",
       "      <td>female</td>\n",
       "      <td>Contact with confirmed</td>\n",
       "      <td>0</td>\n",
       "    </tr>\n",
       "    <tr>\n",
       "      <th>31</th>\n",
       "      <td>244441</td>\n",
       "      <td>2020-04-25 00:00:00.000000</td>\n",
       "      <td>1</td>\n",
       "      <td>0</td>\n",
       "      <td>0</td>\n",
       "      <td>0</td>\n",
       "      <td>1</td>\n",
       "      <td>female</td>\n",
       "      <td>Contact with confirmed</td>\n",
       "      <td>0</td>\n",
       "    </tr>\n",
       "  </tbody>\n",
       "</table>\n",
       "</div>"
      ],
      "text/plain": [
       "    Ind_ID                   Test_date  Cough_symptoms  Fever  Sore_throat  \\\n",
       "0    13756  2020-03-22 00:00:00.000000               1      1            1   \n",
       "1    17289  2020-03-22 00:00:00.000000               1      1            1   \n",
       "2    17657  2020-03-23 00:00:00.000000               1      0            1   \n",
       "3    19554  2020-03-23 00:00:00.000000               1      1            0   \n",
       "4    19615  2020-03-23 00:00:00.000000               1      0            1   \n",
       "5    20248  2020-03-23 00:00:00.000000               1      1            0   \n",
       "6    20253  2020-03-23 00:00:00.000000               1      1            0   \n",
       "7    37904  2020-03-27 00:00:00.000000               1      1            1   \n",
       "8    40616  2020-03-27 00:00:00.000000               1      0            0   \n",
       "9    40752  2020-03-27 00:00:00.000000               1      1            0   \n",
       "10   43650  2020-03-28 00:00:00.000000               1      0            1   \n",
       "11   49678  2020-03-29 00:00:00.000000               1      1            0   \n",
       "12   51034  2020-03-29 00:00:00.000000               1      0            0   \n",
       "13   52740  2020-03-29 00:00:00.000000               1      1            1   \n",
       "14   57155  2020-03-30 00:00:00.000000               1      0            1   \n",
       "15   58101  2020-03-30 00:00:00.000000               1      0            1   \n",
       "16   70026  2020-01-04 00:00:00.000000               1      1            0   \n",
       "17   76125  2020-01-04 00:00:00.000000               1      1            1   \n",
       "18   84586  2020-03-04 00:00:00.000000               1      0            1   \n",
       "19   86104  2020-03-04 00:00:00.000000               1      0            1   \n",
       "20   86109  2020-03-04 00:00:00.000000               1      0            0   \n",
       "21   86145  2020-03-04 00:00:00.000000               1      0            1   \n",
       "22  100555  2020-05-04 00:00:00.000000               1      0            0   \n",
       "23  122243  2020-09-04 00:00:00.000000               1      1            0   \n",
       "24  133573  2020-11-04 00:00:00.000000               1      0            1   \n",
       "25  135059  2020-11-04 00:00:00.000000               1      1            1   \n",
       "26  137748  2020-12-04 00:00:00.000000               1      1            1   \n",
       "27  145561  2020-04-13 00:00:00.000000               1      0            0   \n",
       "28  149178  2020-04-13 00:00:00.000000               1      0            0   \n",
       "29  163207  2020-04-16 00:00:00.000000               1      0            0   \n",
       "30  168703  2020-04-16 00:00:00.000000               1      0            1   \n",
       "31  244441  2020-04-25 00:00:00.000000               1      0            0   \n",
       "\n",
       "    Shortness_of_breath  Headache     Sex           Known_contact  Corona  \n",
       "0                     0         1  female                  Abroad       0  \n",
       "1                     0         1  female                  Abroad       0  \n",
       "2                     0         1  female                  Abroad       0  \n",
       "3                     0         1  female                   Other       0  \n",
       "4                     1         1  female  Contact with confirmed       0  \n",
       "5                     0         1  female                  Abroad       0  \n",
       "6                     0         1  female  Contact with confirmed       0  \n",
       "7                     1         1  female  Contact with confirmed       0  \n",
       "8                     1         1  female  Contact with confirmed       0  \n",
       "9                     0         1  female  Contact with confirmed       0  \n",
       "10                    1         1  female  Contact with confirmed       0  \n",
       "11                    0         1  female  Contact with confirmed       0  \n",
       "12                    0         1  female  Contact with confirmed       0  \n",
       "13                    0         1  female  Contact with confirmed       0  \n",
       "14                    0         1  female                  Abroad       0  \n",
       "15                    0         1  female  Contact with confirmed       0  \n",
       "16                    0         1  female  Contact with confirmed       0  \n",
       "17                    1         1  female  Contact with confirmed       0  \n",
       "18                    0         1  female                  Abroad       0  \n",
       "19                    1         1  female  Contact with confirmed       0  \n",
       "20                    1         1  female  Contact with confirmed       0  \n",
       "21                    1         1  female  Contact with confirmed       0  \n",
       "22                    0         1  female  Contact with confirmed       0  \n",
       "23                    1         1  female  Contact with confirmed       0  \n",
       "24                    1         1  female  Contact with confirmed       0  \n",
       "25                    0         1  female                  Abroad       0  \n",
       "26                    0         1  female  Contact with confirmed       0  \n",
       "27                    0         1  female                   Other       0  \n",
       "28                    0         1  female                  Abroad       0  \n",
       "29                    0         1  female  Contact with confirmed       0  \n",
       "30                    1         1  female  Contact with confirmed       0  \n",
       "31                    0         1  female  Contact with confirmed       0  "
      ]
     },
     "execution_count": 104,
     "metadata": {},
     "output_type": "execute_result"
    }
   ],
   "source": [
    "mysql(\"\"\" SELECT * FROM Covid_Test1\n",
    "WHERE Corona = 0 AND Sex = 'female' AND Cough_symptoms= True AND Headache = True\"\"\")"
   ]
  },
  {
   "cell_type": "markdown",
   "id": "7743e4f7",
   "metadata": {},
   "source": [
    "#### How many elderly corona patients have faced breathing problems?"
   ]
  },
  {
   "cell_type": "code",
   "execution_count": null,
   "id": "29fcc39e",
   "metadata": {},
   "outputs": [],
   "source": [
    "column is not available "
   ]
  },
  {
   "cell_type": "markdown",
   "id": "8bedb1ae",
   "metadata": {},
   "source": [
    "#### Which three symptoms were more common among COVID positive patients?"
   ]
  },
  {
   "cell_type": "code",
   "execution_count": 307,
   "id": "00e11d0c",
   "metadata": {},
   "outputs": [
    {
     "data": {
      "text/html": [
       "<div>\n",
       "<style scoped>\n",
       "    .dataframe tbody tr th:only-of-type {\n",
       "        vertical-align: middle;\n",
       "    }\n",
       "\n",
       "    .dataframe tbody tr th {\n",
       "        vertical-align: top;\n",
       "    }\n",
       "\n",
       "    .dataframe thead th {\n",
       "        text-align: right;\n",
       "    }\n",
       "</style>\n",
       "<table border=\"1\" class=\"dataframe\">\n",
       "  <thead>\n",
       "    <tr style=\"text-align: right;\">\n",
       "      <th></th>\n",
       "      <th>Cough_symptoms</th>\n",
       "      <th>Fever</th>\n",
       "      <th>Sore_throat</th>\n",
       "      <th>Shortness_of_breath</th>\n",
       "      <th>Headache</th>\n",
       "      <th>Total_Count</th>\n",
       "    </tr>\n",
       "  </thead>\n",
       "  <tbody>\n",
       "    <tr>\n",
       "      <th>0</th>\n",
       "      <td>0</td>\n",
       "      <td>0</td>\n",
       "      <td>0</td>\n",
       "      <td>0</td>\n",
       "      <td>0</td>\n",
       "      <td>4909</td>\n",
       "    </tr>\n",
       "    <tr>\n",
       "      <th>1</th>\n",
       "      <td>1</td>\n",
       "      <td>0</td>\n",
       "      <td>0</td>\n",
       "      <td>0</td>\n",
       "      <td>0</td>\n",
       "      <td>2041</td>\n",
       "    </tr>\n",
       "    <tr>\n",
       "      <th>2</th>\n",
       "      <td>1</td>\n",
       "      <td>1</td>\n",
       "      <td>0</td>\n",
       "      <td>0</td>\n",
       "      <td>0</td>\n",
       "      <td>1997</td>\n",
       "    </tr>\n",
       "  </tbody>\n",
       "</table>\n",
       "</div>"
      ],
      "text/plain": [
       "   Cough_symptoms  Fever  Sore_throat  Shortness_of_breath  Headache  \\\n",
       "0               0      0            0                    0         0   \n",
       "1               1      0            0                    0         0   \n",
       "2               1      1            0                    0         0   \n",
       "\n",
       "   Total_Count  \n",
       "0         4909  \n",
       "1         2041  \n",
       "2         1997  "
      ]
     },
     "execution_count": 307,
     "metadata": {},
     "output_type": "execute_result"
    }
   ],
   "source": [
    "mysql(\"\"\"WITH CTE AS (\n",
    "  SELECT Cough_symptoms, Fever, Sore_throat, Shortness_of_breath, Headache,\n",
    "         COUNT(*) AS Total_Count\n",
    "  FROM Covid_Test1\n",
    "  WHERE Corona = 1\n",
    "  GROUP BY Cough_symptoms, Fever, Sore_throat, Shortness_of_breath, Headache\n",
    ")\n",
    "SELECT Cough_symptoms, Fever, Sore_throat, Shortness_of_breath, Headache, Total_Count\n",
    "FROM CTE\n",
    "ORDER BY Total_Count DESC\n",
    "LIMIT 3\"\"\")"
   ]
  },
  {
   "cell_type": "markdown",
   "id": "0327ff31",
   "metadata": {},
   "source": [
    "#### Which symptom was less common among COVID negative people?"
   ]
  },
  {
   "cell_type": "code",
   "execution_count": 308,
   "id": "a8615632",
   "metadata": {},
   "outputs": [
    {
     "data": {
      "text/html": [
       "<div>\n",
       "<style scoped>\n",
       "    .dataframe tbody tr th:only-of-type {\n",
       "        vertical-align: middle;\n",
       "    }\n",
       "\n",
       "    .dataframe tbody tr th {\n",
       "        vertical-align: top;\n",
       "    }\n",
       "\n",
       "    .dataframe thead th {\n",
       "        text-align: right;\n",
       "    }\n",
       "</style>\n",
       "<table border=\"1\" class=\"dataframe\">\n",
       "  <thead>\n",
       "    <tr style=\"text-align: right;\">\n",
       "      <th></th>\n",
       "      <th>Cough</th>\n",
       "      <th>Fever</th>\n",
       "      <th>Sore_Throat</th>\n",
       "      <th>Shortness_of_Breath</th>\n",
       "      <th>Headache</th>\n",
       "    </tr>\n",
       "  </thead>\n",
       "  <tbody>\n",
       "    <tr>\n",
       "      <th>0</th>\n",
       "      <td>32988</td>\n",
       "      <td>14814</td>\n",
       "      <td>137</td>\n",
       "      <td>99</td>\n",
       "      <td>98</td>\n",
       "    </tr>\n",
       "  </tbody>\n",
       "</table>\n",
       "</div>"
      ],
      "text/plain": [
       "   Cough  Fever  Sore_Throat  Shortness_of_Breath  Headache\n",
       "0  32988  14814          137                   99        98"
      ]
     },
     "execution_count": 308,
     "metadata": {},
     "output_type": "execute_result"
    }
   ],
   "source": [
    "mysql(\"\"\"SELECT\n",
    "  SUM(CASE WHEN Cough_symptoms = True THEN 1 ELSE 0 END) AS Cough,\n",
    "  SUM(CASE WHEN Fever = True THEN 1 ELSE 0 END) AS Fever,\n",
    "  SUM(CASE WHEN Sore_throat = True THEN 1 ELSE 0 END) AS Sore_Throat,\n",
    "  SUM(CASE WHEN Shortness_of_breath = True THEN 1 ELSE 0 END) AS Shortness_of_Breath,\n",
    "  SUM(CASE WHEN Headache = True THEN 1 ELSE 0 END) AS Headache\n",
    "FROM\n",
    "  Covid_Test1\n",
    "WHERE\n",
    "  Corona = 0\n",
    "ORDER BY\n",
    "  Cough, Fever, Sore_Throat, Shortness_of_Breath, Headache \n",
    "DESC\"\"\")"
   ]
  },
  {
   "cell_type": "markdown",
   "id": "7ff0cd4d",
   "metadata": {},
   "source": [
    "#### What are the most common symptoms among COVID positive males whose known contact was abroad? "
   ]
  },
  {
   "cell_type": "code",
   "execution_count": 283,
   "id": "04ec1e1d",
   "metadata": {},
   "outputs": [
    {
     "data": {
      "text/html": [
       "<div>\n",
       "<style scoped>\n",
       "    .dataframe tbody tr th:only-of-type {\n",
       "        vertical-align: middle;\n",
       "    }\n",
       "\n",
       "    .dataframe tbody tr th {\n",
       "        vertical-align: top;\n",
       "    }\n",
       "\n",
       "    .dataframe thead th {\n",
       "        text-align: right;\n",
       "    }\n",
       "</style>\n",
       "<table border=\"1\" class=\"dataframe\">\n",
       "  <thead>\n",
       "    <tr style=\"text-align: right;\">\n",
       "      <th></th>\n",
       "      <th>Cough</th>\n",
       "      <th>Fever</th>\n",
       "      <th>Sore_Throat</th>\n",
       "      <th>Shortness_of_Breath</th>\n",
       "      <th>Headache</th>\n",
       "    </tr>\n",
       "  </thead>\n",
       "  <tbody>\n",
       "    <tr>\n",
       "      <th>0</th>\n",
       "      <td>532</td>\n",
       "      <td>407</td>\n",
       "      <td>87</td>\n",
       "      <td>84</td>\n",
       "      <td>129</td>\n",
       "    </tr>\n",
       "  </tbody>\n",
       "</table>\n",
       "</div>"
      ],
      "text/plain": [
       "   Cough  Fever  Sore_Throat  Shortness_of_Breath  Headache\n",
       "0    532    407           87                   84       129"
      ]
     },
     "execution_count": 283,
     "metadata": {},
     "output_type": "execute_result"
    }
   ],
   "source": [
    "mysql(\"\"\"SELECT\n",
    "  SUM(CASE WHEN Cough_symptoms = True THEN 1 ELSE 0 END) AS Cough,\n",
    "  SUM(CASE WHEN Fever = True THEN 1 ELSE 0 END) AS Fever,\n",
    "  SUM(CASE WHEN Sore_throat = True THEN 1 ELSE 0 END) AS Sore_Throat,\n",
    "  SUM(CASE WHEN Shortness_of_breath = True THEN 1 ELSE 0 END) AS Shortness_of_Breath,\n",
    "  SUM(CASE WHEN Headache = True THEN 1 ELSE 0 END) AS Headache\n",
    "FROM\n",
    "  Covid_Test1\n",
    "WHERE\n",
    "  Corona = 1 AND\n",
    "  Sex = 'male' AND\n",
    "  Known_contact = 'Abroad'\n",
    "ORDER BY\n",
    "  Cough DESC, Fever DESC, Sore_Throat DESC, Shortness_of_Breath DESC, Headache DESC\"\"\")"
   ]
  },
  {
   "cell_type": "code",
   "execution_count": null,
   "id": "16a05b4e",
   "metadata": {},
   "outputs": [],
   "source": []
  }
 ],
 "metadata": {
  "kernelspec": {
   "display_name": "Python 3 (ipykernel)",
   "language": "python",
   "name": "python3"
  },
  "language_info": {
   "codemirror_mode": {
    "name": "ipython",
    "version": 3
   },
   "file_extension": ".py",
   "mimetype": "text/x-python",
   "name": "python",
   "nbconvert_exporter": "python",
   "pygments_lexer": "ipython3",
   "version": "3.9.12"
  }
 },
 "nbformat": 4,
 "nbformat_minor": 5
}
